{
 "cells": [
  {
   "cell_type": "code",
   "execution_count": 66,
   "id": "4cf027f5",
   "metadata": {},
   "outputs": [],
   "source": [
    "import pandas as pd\n",
    "import numpy as np\n",
    "import matplotlib.pyplot as plt \n",
    "import plotly_express as px\n",
    "import seaborn as sns\n",
    "from sklearn.ensemble import RandomForestClassifier\n",
    "from sklearn.model_selection import train_test_split\n",
    "from sklearn.preprocessing import LabelEncoder\n",
    "from imblearn.over_sampling import SMOTE\n",
    "from sklearn.metrics import classification_report,confusion_matrix\n",
    "pd.options.display.float_format='{:,.2f}'.format\n",
    "pd.options.display.max_columns=None\n",
    "pd.options.display.max_rows=None"
   ]
  },
  {
   "cell_type": "code",
   "execution_count": 2,
   "id": "061ec20d",
   "metadata": {},
   "outputs": [],
   "source": [
    "shipments=pd.read_excel('shipments.xlsx')\n",
    "customers=pd.read_excel('customers.xlsx')"
   ]
  },
  {
   "cell_type": "code",
   "execution_count": 3,
   "id": "d61b1b1f",
   "metadata": {},
   "outputs": [
    {
     "name": "stdout",
     "output_type": "stream",
     "text": [
      "<class 'pandas.core.frame.DataFrame'>\n",
      "RangeIndex: 1000 entries, 0 to 999\n",
      "Data columns (total 5 columns):\n",
      " #   Column         Non-Null Count  Dtype         \n",
      "---  ------         --------------  -----         \n",
      " 0   customer_id    1000 non-null   object        \n",
      " 1   customer_name  1000 non-null   object        \n",
      " 2   customer_type  1000 non-null   object        \n",
      " 3   city           1000 non-null   object        \n",
      " 4   signup_date    1000 non-null   datetime64[ns]\n",
      "dtypes: datetime64[ns](1), object(4)\n",
      "memory usage: 39.2+ KB\n"
     ]
    }
   ],
   "source": [
    "customers.info()"
   ]
  },
  {
   "cell_type": "code",
   "execution_count": 4,
   "id": "ec54f05f",
   "metadata": {},
   "outputs": [
    {
     "data": {
      "text/plain": [
       "np.int64(0)"
      ]
     },
     "execution_count": 4,
     "metadata": {},
     "output_type": "execute_result"
    }
   ],
   "source": [
    "customers.duplicated().sum()"
   ]
  },
  {
   "cell_type": "code",
   "execution_count": 5,
   "id": "ecf95086",
   "metadata": {},
   "outputs": [],
   "source": [
    "shipmentaandcustomer=shipments.merge(customers,how='inner',on='customer_id')\n",
    "shipmentaandcustomer['signup_date']=pd.to_datetime(shipmentaandcustomer['signup_date'])"
   ]
  },
  {
   "cell_type": "code",
   "execution_count": 6,
   "id": "3867e109",
   "metadata": {},
   "outputs": [
    {
     "name": "stdout",
     "output_type": "stream",
     "text": [
      "<class 'pandas.core.frame.DataFrame'>\n",
      "RangeIndex: 20000 entries, 0 to 19999\n",
      "Data columns (total 13 columns):\n",
      " #   Column         Non-Null Count  Dtype         \n",
      "---  ------         --------------  -----         \n",
      " 0   shipment_id    20000 non-null  object        \n",
      " 1   customer_id    20000 non-null  object        \n",
      " 2   from_city      20000 non-null  object        \n",
      " 3   to_city        20000 non-null  object        \n",
      " 4   weight_kg      20000 non-null  float64       \n",
      " 5   service_type   20000 non-null  object        \n",
      " 6   ship_date      20000 non-null  datetime64[ns]\n",
      " 7   status         20000 non-null  object        \n",
      " 8   delivery_date  20000 non-null  datetime64[ns]\n",
      " 9   customer_name  20000 non-null  object        \n",
      " 10  customer_type  20000 non-null  object        \n",
      " 11  city           20000 non-null  object        \n",
      " 12  signup_date    20000 non-null  datetime64[ns]\n",
      "dtypes: datetime64[ns](3), float64(1), object(9)\n",
      "memory usage: 2.0+ MB\n"
     ]
    }
   ],
   "source": [
    "shipmentaandcustomer.info()"
   ]
  },
  {
   "cell_type": "code",
   "execution_count": 7,
   "id": "0ceca283",
   "metadata": {},
   "outputs": [
    {
     "data": {
      "text/plain": [
       "np.int64(0)"
      ]
     },
     "execution_count": 7,
     "metadata": {},
     "output_type": "execute_result"
    }
   ],
   "source": [
    "shipmentaandcustomer.duplicated().sum()"
   ]
  },
  {
   "cell_type": "code",
   "execution_count": 8,
   "id": "b406d728",
   "metadata": {},
   "outputs": [
    {
     "name": "stdout",
     "output_type": "stream",
     "text": [
      "<class 'pandas.core.frame.DataFrame'>\n",
      "RangeIndex: 20000 entries, 0 to 19999\n",
      "Data columns (total 13 columns):\n",
      " #   Column         Non-Null Count  Dtype         \n",
      "---  ------         --------------  -----         \n",
      " 0   shipment_id    20000 non-null  object        \n",
      " 1   customer_id    20000 non-null  object        \n",
      " 2   from_city      20000 non-null  object        \n",
      " 3   to_city        20000 non-null  object        \n",
      " 4   weight_kg      20000 non-null  float64       \n",
      " 5   service_type   20000 non-null  object        \n",
      " 6   ship_date      20000 non-null  datetime64[ns]\n",
      " 7   status         20000 non-null  object        \n",
      " 8   delivery_date  20000 non-null  datetime64[ns]\n",
      " 9   customer_name  20000 non-null  object        \n",
      " 10  customer_type  20000 non-null  object        \n",
      " 11  city           20000 non-null  object        \n",
      " 12  signup_date    20000 non-null  datetime64[ns]\n",
      "dtypes: datetime64[ns](3), float64(1), object(9)\n",
      "memory usage: 2.0+ MB\n"
     ]
    }
   ],
   "source": [
    "shipmentaandcustomer.info()"
   ]
  },
  {
   "cell_type": "code",
   "execution_count": 9,
   "id": "a451001a",
   "metadata": {},
   "outputs": [
    {
     "data": {
      "text/html": [
       "<div>\n",
       "<style scoped>\n",
       "    .dataframe tbody tr th:only-of-type {\n",
       "        vertical-align: middle;\n",
       "    }\n",
       "\n",
       "    .dataframe tbody tr th {\n",
       "        vertical-align: top;\n",
       "    }\n",
       "\n",
       "    .dataframe thead th {\n",
       "        text-align: right;\n",
       "    }\n",
       "</style>\n",
       "<table border=\"1\" class=\"dataframe\">\n",
       "  <thead>\n",
       "    <tr style=\"text-align: right;\">\n",
       "      <th></th>\n",
       "      <th>shipment_id</th>\n",
       "      <th>customer_id</th>\n",
       "      <th>from_city</th>\n",
       "      <th>to_city</th>\n",
       "      <th>weight_kg</th>\n",
       "      <th>service_type</th>\n",
       "      <th>ship_date</th>\n",
       "      <th>status</th>\n",
       "      <th>delivery_date</th>\n",
       "      <th>customer_name</th>\n",
       "      <th>customer_type</th>\n",
       "      <th>city</th>\n",
       "      <th>signup_date</th>\n",
       "    </tr>\n",
       "  </thead>\n",
       "  <tbody>\n",
       "    <tr>\n",
       "      <th>10836</th>\n",
       "      <td>SH10836</td>\n",
       "      <td>C1313</td>\n",
       "      <td>Tanta</td>\n",
       "      <td>Giza</td>\n",
       "      <td>10.41</td>\n",
       "      <td>Standard</td>\n",
       "      <td>2024-12-27</td>\n",
       "      <td>Delivered</td>\n",
       "      <td>2024-12-29</td>\n",
       "      <td>Customer_313</td>\n",
       "      <td>Regular</td>\n",
       "      <td>Cairo</td>\n",
       "      <td>2024-08-09</td>\n",
       "    </tr>\n",
       "    <tr>\n",
       "      <th>14794</th>\n",
       "      <td>SH14794</td>\n",
       "      <td>C1191</td>\n",
       "      <td>Giza</td>\n",
       "      <td>Mansoura</td>\n",
       "      <td>1.51</td>\n",
       "      <td>Standard</td>\n",
       "      <td>2024-08-21</td>\n",
       "      <td>Delivered</td>\n",
       "      <td>2024-08-23</td>\n",
       "      <td>Customer_191</td>\n",
       "      <td>Regular</td>\n",
       "      <td>Assiut</td>\n",
       "      <td>2024-04-09</td>\n",
       "    </tr>\n",
       "    <tr>\n",
       "      <th>2994</th>\n",
       "      <td>SH2994</td>\n",
       "      <td>C1038</td>\n",
       "      <td>Cairo</td>\n",
       "      <td>Cairo</td>\n",
       "      <td>0.39</td>\n",
       "      <td>Standard</td>\n",
       "      <td>2024-07-02</td>\n",
       "      <td>Delivered</td>\n",
       "      <td>2024-07-03</td>\n",
       "      <td>Customer_38</td>\n",
       "      <td>Regular</td>\n",
       "      <td>Tanta</td>\n",
       "      <td>2023-11-08</td>\n",
       "    </tr>\n",
       "    <tr>\n",
       "      <th>11242</th>\n",
       "      <td>SH11242</td>\n",
       "      <td>C1593</td>\n",
       "      <td>Assiut</td>\n",
       "      <td>Mansoura</td>\n",
       "      <td>0.08</td>\n",
       "      <td>Express</td>\n",
       "      <td>2024-03-16</td>\n",
       "      <td>Delivered</td>\n",
       "      <td>2024-03-17</td>\n",
       "      <td>Customer_593</td>\n",
       "      <td>Regular</td>\n",
       "      <td>Mansoura</td>\n",
       "      <td>2025-05-16</td>\n",
       "    </tr>\n",
       "    <tr>\n",
       "      <th>7683</th>\n",
       "      <td>SH7683</td>\n",
       "      <td>C1236</td>\n",
       "      <td>Assiut</td>\n",
       "      <td>Cairo</td>\n",
       "      <td>3.82</td>\n",
       "      <td>Standard</td>\n",
       "      <td>2024-11-08</td>\n",
       "      <td>Delivered</td>\n",
       "      <td>2024-11-09</td>\n",
       "      <td>Customer_236</td>\n",
       "      <td>Regular</td>\n",
       "      <td>Tanta</td>\n",
       "      <td>2024-05-24</td>\n",
       "    </tr>\n",
       "  </tbody>\n",
       "</table>\n",
       "</div>"
      ],
      "text/plain": [
       "      shipment_id customer_id from_city   to_city  weight_kg service_type  \\\n",
       "10836     SH10836       C1313     Tanta      Giza      10.41     Standard   \n",
       "14794     SH14794       C1191      Giza  Mansoura       1.51     Standard   \n",
       "2994       SH2994       C1038     Cairo     Cairo       0.39     Standard   \n",
       "11242     SH11242       C1593    Assiut  Mansoura       0.08      Express   \n",
       "7683       SH7683       C1236    Assiut     Cairo       3.82     Standard   \n",
       "\n",
       "       ship_date     status delivery_date customer_name customer_type  \\\n",
       "10836 2024-12-27  Delivered    2024-12-29  Customer_313       Regular   \n",
       "14794 2024-08-21  Delivered    2024-08-23  Customer_191       Regular   \n",
       "2994  2024-07-02  Delivered    2024-07-03   Customer_38       Regular   \n",
       "11242 2024-03-16  Delivered    2024-03-17  Customer_593       Regular   \n",
       "7683  2024-11-08  Delivered    2024-11-09  Customer_236       Regular   \n",
       "\n",
       "           city signup_date  \n",
       "10836     Cairo  2024-08-09  \n",
       "14794    Assiut  2024-04-09  \n",
       "2994      Tanta  2023-11-08  \n",
       "11242  Mansoura  2025-05-16  \n",
       "7683      Tanta  2024-05-24  "
      ]
     },
     "execution_count": 9,
     "metadata": {},
     "output_type": "execute_result"
    }
   ],
   "source": [
    "shipmentaandcustomer.sample(5)"
   ]
  },
  {
   "cell_type": "code",
   "execution_count": 10,
   "id": "ef53640b",
   "metadata": {},
   "outputs": [
    {
     "data": {
      "text/plain": [
       "array(['Delivered', 'Delayed'], dtype=object)"
      ]
     },
     "execution_count": 10,
     "metadata": {},
     "output_type": "execute_result"
    }
   ],
   "source": [
    "shipmentaandcustomer['status'].unique()"
   ]
  },
  {
   "cell_type": "code",
   "execution_count": 11,
   "id": "28d63a37",
   "metadata": {},
   "outputs": [
    {
     "data": {
      "text/plain": [
       "20000"
      ]
     },
     "execution_count": 11,
     "metadata": {},
     "output_type": "execute_result"
    }
   ],
   "source": [
    "#اجمالي عدد الشحنات \n",
    "shipmentaandcustomer.shape[0]"
   ]
  },
  {
   "cell_type": "code",
   "execution_count": 12,
   "id": "05b12287",
   "metadata": {},
   "outputs": [
    {
     "data": {
      "text/html": [
       "<div>\n",
       "<style scoped>\n",
       "    .dataframe tbody tr th:only-of-type {\n",
       "        vertical-align: middle;\n",
       "    }\n",
       "\n",
       "    .dataframe tbody tr th {\n",
       "        vertical-align: top;\n",
       "    }\n",
       "\n",
       "    .dataframe thead th {\n",
       "        text-align: right;\n",
       "    }\n",
       "</style>\n",
       "<table border=\"1\" class=\"dataframe\">\n",
       "  <thead>\n",
       "    <tr style=\"text-align: right;\">\n",
       "      <th></th>\n",
       "      <th>status</th>\n",
       "      <th>count</th>\n",
       "    </tr>\n",
       "  </thead>\n",
       "  <tbody>\n",
       "    <tr>\n",
       "      <th>0</th>\n",
       "      <td>Delivered</td>\n",
       "      <td>16099</td>\n",
       "    </tr>\n",
       "    <tr>\n",
       "      <th>1</th>\n",
       "      <td>Delayed</td>\n",
       "      <td>3901</td>\n",
       "    </tr>\n",
       "  </tbody>\n",
       "</table>\n",
       "</div>"
      ],
      "text/plain": [
       "      status  count\n",
       "0  Delivered  16099\n",
       "1    Delayed   3901"
      ]
     },
     "execution_count": 12,
     "metadata": {},
     "output_type": "execute_result"
    }
   ],
   "source": [
    "#عدد الشحنات حسب الحاله\n",
    "shipmentaandcustomer.status.value_counts().reset_index()"
   ]
  },
  {
   "cell_type": "code",
   "execution_count": 13,
   "id": "45e230b5",
   "metadata": {},
   "outputs": [
    {
     "name": "stdout",
     "output_type": "stream",
     "text": [
      "معدل التاخير=  19.505\n"
     ]
    }
   ],
   "source": [
    "#معدل الشحنات المتاخره \n",
    "delayed_ratio=(shipmentaandcustomer['status']=='Delayed').mean()*100\n",
    "print(f\"معدل التاخير=  {delayed_ratio}\")"
   ]
  },
  {
   "cell_type": "code",
   "execution_count": 14,
   "id": "3e8e242b",
   "metadata": {},
   "outputs": [
    {
     "name": "stderr",
     "output_type": "stream",
     "text": [
      "C:\\Users\\Mr.Omar\\AppData\\Local\\Temp\\ipykernel_18496\\731034267.py:3: SettingWithCopyWarning: \n",
      "A value is trying to be set on a copy of a slice from a DataFrame.\n",
      "Try using .loc[row_indexer,col_indexer] = value instead\n",
      "\n",
      "See the caveats in the documentation: https://pandas.pydata.org/pandas-docs/stable/user_guide/indexing.html#returning-a-view-versus-a-copy\n",
      "  delivered['delivery_dayes']=(delivered['delivery_date']-delivered['ship_date']).dt.days\n"
     ]
    },
    {
     "data": {
      "text/html": [
       "<div>\n",
       "<style scoped>\n",
       "    .dataframe tbody tr th:only-of-type {\n",
       "        vertical-align: middle;\n",
       "    }\n",
       "\n",
       "    .dataframe tbody tr th {\n",
       "        vertical-align: top;\n",
       "    }\n",
       "\n",
       "    .dataframe thead th {\n",
       "        text-align: right;\n",
       "    }\n",
       "</style>\n",
       "<table border=\"1\" class=\"dataframe\">\n",
       "  <thead>\n",
       "    <tr style=\"text-align: right;\">\n",
       "      <th></th>\n",
       "      <th>service_type</th>\n",
       "      <th>delivery_dayes</th>\n",
       "    </tr>\n",
       "  </thead>\n",
       "  <tbody>\n",
       "    <tr>\n",
       "      <th>0</th>\n",
       "      <td>Express</td>\n",
       "      <td>2.02</td>\n",
       "    </tr>\n",
       "    <tr>\n",
       "      <th>1</th>\n",
       "      <td>Same-Day</td>\n",
       "      <td>1.96</td>\n",
       "    </tr>\n",
       "    <tr>\n",
       "      <th>2</th>\n",
       "      <td>Standard</td>\n",
       "      <td>1.99</td>\n",
       "    </tr>\n",
       "  </tbody>\n",
       "</table>\n",
       "</div>"
      ],
      "text/plain": [
       "  service_type  delivery_dayes\n",
       "0      Express            2.02\n",
       "1     Same-Day            1.96\n",
       "2     Standard            1.99"
      ]
     },
     "execution_count": 14,
     "metadata": {},
     "output_type": "execute_result"
    }
   ],
   "source": [
    "#متوسط مدة التوصيل \n",
    "delivered= shipmentaandcustomer[shipmentaandcustomer['status']=='Delivered']\n",
    "delivered['delivery_dayes']=(delivered['delivery_date']-delivered['ship_date']).dt.days\n",
    "delivered.groupby('service_type')['delivery_dayes'].mean().reset_index()"
   ]
  },
  {
   "cell_type": "code",
   "execution_count": 15,
   "id": "235f6c4f",
   "metadata": {},
   "outputs": [
    {
     "name": "stderr",
     "output_type": "stream",
     "text": [
      "C:\\Users\\Mr.Omar\\AppData\\Local\\Temp\\ipykernel_18496\\1212194995.py:2: SettingWithCopyWarning: \n",
      "A value is trying to be set on a copy of a slice from a DataFrame.\n",
      "Try using .loc[row_indexer,col_indexer] = value instead\n",
      "\n",
      "See the caveats in the documentation: https://pandas.pydata.org/pandas-docs/stable/user_guide/indexing.html#returning-a-view-versus-a-copy\n",
      "  delivered['delivery_dayes']=(delivered['delivery_date']-delivered['ship_date']).dt.days\n",
      "C:\\Users\\Mr.Omar\\AppData\\Local\\Temp\\ipykernel_18496\\1212194995.py:5: FutureWarning: \n",
      "\n",
      "Passing `palette` without assigning `hue` is deprecated and will be removed in v0.14.0. Assign the `x` variable to `hue` and set `legend=False` for the same effect.\n",
      "\n",
      "  sns.barplot(x='service_type', y='delivery_dayes', data=delivered, palette='Blues')\n"
     ]
    },
    {
     "data": {
      "image/png": "[encoded data removed]",
      "text/plain": [
       "<Figure size 800x500 with 1 Axes>"
      ]
     },
     "metadata": {},
     "output_type": "display_data"
    }
   ],
   "source": [
    "delivered= shipmentaandcustomer[shipmentaandcustomer['status']=='Delivered']\n",
    "delivered['delivery_dayes']=(delivered['delivery_date']-delivered['ship_date']).dt.days\n",
    "delivered.groupby('service_type')['delivery_dayes'].mean().reset_index()\n",
    "plt.figure(figsize=(8, 5))\n",
    "sns.barplot(x='service_type', y='delivery_dayes', data=delivered, palette='Blues')\n",
    "plt.title('Average Lead Time per Service Type')\n",
    "plt.ylabel('Avg Delivery Days')\n",
    "plt.xlabel('Service Type')\n",
    "plt.show()\n"
   ]
  },
  {
   "cell_type": "code",
   "execution_count": 16,
   "id": "14fe640a",
   "metadata": {},
   "outputs": [
    {
     "data": {
      "text/html": [
       "<div>\n",
       "<style scoped>\n",
       "    .dataframe tbody tr th:only-of-type {\n",
       "        vertical-align: middle;\n",
       "    }\n",
       "\n",
       "    .dataframe tbody tr th {\n",
       "        vertical-align: top;\n",
       "    }\n",
       "\n",
       "    .dataframe thead th {\n",
       "        text-align: right;\n",
       "    }\n",
       "</style>\n",
       "<table border=\"1\" class=\"dataframe\">\n",
       "  <thead>\n",
       "    <tr style=\"text-align: right;\">\n",
       "      <th></th>\n",
       "      <th>to_city</th>\n",
       "      <th>delivery_dayes</th>\n",
       "    </tr>\n",
       "  </thead>\n",
       "  <tbody>\n",
       "    <tr>\n",
       "      <th>0</th>\n",
       "      <td>Alexandria</td>\n",
       "      <td>2.01</td>\n",
       "    </tr>\n",
       "    <tr>\n",
       "      <th>1</th>\n",
       "      <td>Assiut</td>\n",
       "      <td>1.98</td>\n",
       "    </tr>\n",
       "    <tr>\n",
       "      <th>2</th>\n",
       "      <td>Cairo</td>\n",
       "      <td>1.98</td>\n",
       "    </tr>\n",
       "    <tr>\n",
       "      <th>3</th>\n",
       "      <td>Giza</td>\n",
       "      <td>1.99</td>\n",
       "    </tr>\n",
       "    <tr>\n",
       "      <th>4</th>\n",
       "      <td>Mansoura</td>\n",
       "      <td>2.01</td>\n",
       "    </tr>\n",
       "    <tr>\n",
       "      <th>5</th>\n",
       "      <td>Suez</td>\n",
       "      <td>2.01</td>\n",
       "    </tr>\n",
       "    <tr>\n",
       "      <th>6</th>\n",
       "      <td>Tanta</td>\n",
       "      <td>2.00</td>\n",
       "    </tr>\n",
       "    <tr>\n",
       "      <th>7</th>\n",
       "      <td>Zagazig</td>\n",
       "      <td>1.98</td>\n",
       "    </tr>\n",
       "  </tbody>\n",
       "</table>\n",
       "</div>"
      ],
      "text/plain": [
       "      to_city  delivery_dayes\n",
       "0  Alexandria            2.01\n",
       "1      Assiut            1.98\n",
       "2       Cairo            1.98\n",
       "3        Giza            1.99\n",
       "4    Mansoura            2.01\n",
       "5        Suez            2.01\n",
       "6       Tanta            2.00\n",
       "7     Zagazig            1.98"
      ]
     },
     "execution_count": 16,
     "metadata": {},
     "output_type": "execute_result"
    }
   ],
   "source": [
    "delivered.groupby('to_city')['delivery_dayes'].mean().reset_index()"
   ]
  },
  {
   "cell_type": "code",
   "execution_count": 17,
   "id": "cdd9376e",
   "metadata": {},
   "outputs": [
    {
     "name": "stdout",
     "output_type": "stream",
     "text": [
      "status        Delayed  total  Delayed_%\n",
      "service_type                           \n",
      "Express          1202   5822      20.65\n",
      "Same-Day         1216   4126      29.47\n",
      "Standard         1483  10052      14.75\n"
     ]
    },
    {
     "data": {
      "image/png": "[encoded data removed]",
      "text/plain": [
       "<Figure size 800x500 with 1 Axes>"
      ]
     },
     "metadata": {},
     "output_type": "display_data"
    }
   ],
   "source": [
    "srevice=shipmentaandcustomer.groupby(['status','service_type']).size().reset_index(name='count')\n",
    "table=srevice.pivot(index='service_type',columns='status',values='count').fillna(0)\n",
    "table['total']=table.sum(axis=1)\n",
    "table['Delayed_%']=table['Delayed']/table['total']*100\n",
    "table[['Delayed','total','Delayed_%']]\n",
    "print(table[['Delayed','total','Delayed_%']])\n",
    "plt.figure(figsize=(8, 5))\n",
    "plt.bar(table.index, table['Delayed_%'],color=['green','red'])\n",
    "plt.title('Delay Rate per Service Type')\n",
    "plt.ylabel('Delay %')\n",
    "plt.xlabel('Service Type')\n",
    "plt.ylim(0, 100)\n",
    "plt.show()\n"
   ]
  },
  {
   "cell_type": "markdown",
   "id": "4b940a03",
   "metadata": {},
   "source": [
    "اول مشكلة تاخر ال Same-Day\n",
    "---"
   ]
  },
  {
   "cell_type": "code",
   "execution_count": 18,
   "id": "8442da44",
   "metadata": {},
   "outputs": [
    {
     "data": {
      "text/html": [
       "<div>\n",
       "<style scoped>\n",
       "    .dataframe tbody tr th:only-of-type {\n",
       "        vertical-align: middle;\n",
       "    }\n",
       "\n",
       "    .dataframe tbody tr th {\n",
       "        vertical-align: top;\n",
       "    }\n",
       "\n",
       "    .dataframe thead th {\n",
       "        text-align: right;\n",
       "    }\n",
       "</style>\n",
       "<table border=\"1\" class=\"dataframe\">\n",
       "  <thead>\n",
       "    <tr style=\"text-align: right;\">\n",
       "      <th></th>\n",
       "      <th>to_city</th>\n",
       "      <th>Delayed_rate</th>\n",
       "    </tr>\n",
       "  </thead>\n",
       "  <tbody>\n",
       "    <tr>\n",
       "      <th>4</th>\n",
       "      <td>Mansoura</td>\n",
       "      <td>33.99</td>\n",
       "    </tr>\n",
       "    <tr>\n",
       "      <th>6</th>\n",
       "      <td>Tanta</td>\n",
       "      <td>31.09</td>\n",
       "    </tr>\n",
       "    <tr>\n",
       "      <th>2</th>\n",
       "      <td>Cairo</td>\n",
       "      <td>30.49</td>\n",
       "    </tr>\n",
       "    <tr>\n",
       "      <th>7</th>\n",
       "      <td>Zagazig</td>\n",
       "      <td>29.94</td>\n",
       "    </tr>\n",
       "    <tr>\n",
       "      <th>5</th>\n",
       "      <td>Suez</td>\n",
       "      <td>28.49</td>\n",
       "    </tr>\n",
       "    <tr>\n",
       "      <th>3</th>\n",
       "      <td>Giza</td>\n",
       "      <td>28.13</td>\n",
       "    </tr>\n",
       "    <tr>\n",
       "      <th>0</th>\n",
       "      <td>Alexandria</td>\n",
       "      <td>27.97</td>\n",
       "    </tr>\n",
       "    <tr>\n",
       "      <th>1</th>\n",
       "      <td>Assiut</td>\n",
       "      <td>25.99</td>\n",
       "    </tr>\n",
       "  </tbody>\n",
       "</table>\n",
       "</div>"
      ],
      "text/plain": [
       "      to_city  Delayed_rate\n",
       "4    Mansoura         33.99\n",
       "6       Tanta         31.09\n",
       "2       Cairo         30.49\n",
       "7     Zagazig         29.94\n",
       "5        Suez         28.49\n",
       "3        Giza         28.13\n",
       "0  Alexandria         27.97\n",
       "1      Assiut         25.99"
      ]
     },
     "execution_count": 18,
     "metadata": {},
     "output_type": "execute_result"
    }
   ],
   "source": [
    "city_delay=shipmentaandcustomer[(shipmentaandcustomer['service_type']=='Same-Day')].groupby('to_city')['status'].apply(lambda x:(x=='Delayed').mean()*100).reset_index(name='Delayed_rate')\n",
    "city_delay.sort_values('Delayed_rate',ascending=False)"
   ]
  },
  {
   "cell_type": "code",
   "execution_count": 19,
   "id": "3be2db08",
   "metadata": {},
   "outputs": [
    {
     "name": "stderr",
     "output_type": "stream",
     "text": [
      "C:\\Users\\Mr.Omar\\AppData\\Local\\Temp\\ipykernel_18496\\867167884.py:2: FutureWarning: \n",
      "\n",
      "Passing `palette` without assigning `hue` is deprecated and will be removed in v0.14.0. Assign the `x` variable to `hue` and set `legend=False` for the same effect.\n",
      "\n",
      "  sns.barplot(data=city_delay.sort_values('Delayed_rate',ascending=False),x='to_city', y='Delayed_rate', palette='magma')\n"
     ]
    },
    {
     "data": {
      "image/png": "[encoded data removed]",
      "text/plain": [
       "<Figure size 1000x800 with 1 Axes>"
      ]
     },
     "metadata": {},
     "output_type": "display_data"
    }
   ],
   "source": [
    "plt.figure(figsize=(10, 8))\n",
    "sns.barplot(data=city_delay.sort_values('Delayed_rate',ascending=False),x='to_city', y='Delayed_rate', palette='magma')\n",
    "plt.title('Top 15 Cities by Delay Rate (Same-Day)')\n",
    "plt.xlabel('Delay %')\n",
    "plt.ylabel('City')\n",
    "plt.show()\n"
   ]
  },
  {
   "cell_type": "code",
   "execution_count": 20,
   "id": "c18c054c",
   "metadata": {},
   "outputs": [
    {
     "data": {
      "text/html": [
       "<div>\n",
       "<style scoped>\n",
       "    .dataframe tbody tr th:only-of-type {\n",
       "        vertical-align: middle;\n",
       "    }\n",
       "\n",
       "    .dataframe tbody tr th {\n",
       "        vertical-align: top;\n",
       "    }\n",
       "\n",
       "    .dataframe thead th {\n",
       "        text-align: right;\n",
       "    }\n",
       "</style>\n",
       "<table border=\"1\" class=\"dataframe\">\n",
       "  <thead>\n",
       "    <tr style=\"text-align: right;\">\n",
       "      <th></th>\n",
       "      <th>from_city</th>\n",
       "      <th>Delayed_rate</th>\n",
       "    </tr>\n",
       "  </thead>\n",
       "  <tbody>\n",
       "    <tr>\n",
       "      <th>3</th>\n",
       "      <td>Giza</td>\n",
       "      <td>30.69</td>\n",
       "    </tr>\n",
       "    <tr>\n",
       "      <th>2</th>\n",
       "      <td>Cairo</td>\n",
       "      <td>30.30</td>\n",
       "    </tr>\n",
       "    <tr>\n",
       "      <th>4</th>\n",
       "      <td>Tanta</td>\n",
       "      <td>30.12</td>\n",
       "    </tr>\n",
       "    <tr>\n",
       "      <th>1</th>\n",
       "      <td>Assiut</td>\n",
       "      <td>30.00</td>\n",
       "    </tr>\n",
       "    <tr>\n",
       "      <th>0</th>\n",
       "      <td>Alexandria</td>\n",
       "      <td>26.32</td>\n",
       "    </tr>\n",
       "  </tbody>\n",
       "</table>\n",
       "</div>"
      ],
      "text/plain": [
       "    from_city  Delayed_rate\n",
       "3        Giza         30.69\n",
       "2       Cairo         30.30\n",
       "4       Tanta         30.12\n",
       "1      Assiut         30.00\n",
       "0  Alexandria         26.32"
      ]
     },
     "execution_count": 20,
     "metadata": {},
     "output_type": "execute_result"
    }
   ],
   "source": [
    "city_delay=shipmentaandcustomer[(shipmentaandcustomer['service_type']=='Same-Day')].groupby('from_city')['status'].apply(lambda x:(x=='Delayed').mean()*100).reset_index(name='Delayed_rate')\n",
    "city_delay.sort_values('Delayed_rate',ascending=False)"
   ]
  },
  {
   "cell_type": "code",
   "execution_count": 21,
   "id": "0243e0c0",
   "metadata": {},
   "outputs": [],
   "source": [
    "drivers=pd.read_excel('delivery_drivers.xlsx')\n",
    "delivry_log=pd.read_excel('delivery_logs.xlsx')\n",
    "delivers=drivers.merge(delivry_log,how='inner',on='driver_id')"
   ]
  },
  {
   "cell_type": "code",
   "execution_count": 22,
   "id": "26ec13cf",
   "metadata": {},
   "outputs": [
    {
     "data": {
      "text/html": [
       "<div>\n",
       "<style scoped>\n",
       "    .dataframe tbody tr th:only-of-type {\n",
       "        vertical-align: middle;\n",
       "    }\n",
       "\n",
       "    .dataframe tbody tr th {\n",
       "        vertical-align: top;\n",
       "    }\n",
       "\n",
       "    .dataframe thead th {\n",
       "        text-align: right;\n",
       "    }\n",
       "</style>\n",
       "<table border=\"1\" class=\"dataframe\">\n",
       "  <thead>\n",
       "    <tr style=\"text-align: right;\">\n",
       "      <th></th>\n",
       "      <th>driver_id</th>\n",
       "      <th>driver_name</th>\n",
       "      <th>region</th>\n",
       "      <th>work_hours</th>\n",
       "      <th>log_id</th>\n",
       "      <th>shipment_id</th>\n",
       "      <th>log_date</th>\n",
       "      <th>duration_min</th>\n",
       "      <th>was_late</th>\n",
       "    </tr>\n",
       "  </thead>\n",
       "  <tbody>\n",
       "    <tr>\n",
       "      <th>0</th>\n",
       "      <td>D0</td>\n",
       "      <td>Driver_0</td>\n",
       "      <td>Alexandria</td>\n",
       "      <td>6</td>\n",
       "      <td>L187</td>\n",
       "      <td>SH187</td>\n",
       "      <td>2024-08-26</td>\n",
       "      <td>25</td>\n",
       "      <td>False</td>\n",
       "    </tr>\n",
       "    <tr>\n",
       "      <th>1</th>\n",
       "      <td>D0</td>\n",
       "      <td>Driver_0</td>\n",
       "      <td>Alexandria</td>\n",
       "      <td>6</td>\n",
       "      <td>L300</td>\n",
       "      <td>SH300</td>\n",
       "      <td>2024-04-25</td>\n",
       "      <td>96</td>\n",
       "      <td>False</td>\n",
       "    </tr>\n",
       "    <tr>\n",
       "      <th>2</th>\n",
       "      <td>D0</td>\n",
       "      <td>Driver_0</td>\n",
       "      <td>Alexandria</td>\n",
       "      <td>6</td>\n",
       "      <td>L587</td>\n",
       "      <td>SH587</td>\n",
       "      <td>2024-07-31</td>\n",
       "      <td>179</td>\n",
       "      <td>False</td>\n",
       "    </tr>\n",
       "    <tr>\n",
       "      <th>3</th>\n",
       "      <td>D0</td>\n",
       "      <td>Driver_0</td>\n",
       "      <td>Alexandria</td>\n",
       "      <td>6</td>\n",
       "      <td>L612</td>\n",
       "      <td>SH612</td>\n",
       "      <td>2024-05-08</td>\n",
       "      <td>28</td>\n",
       "      <td>False</td>\n",
       "    </tr>\n",
       "    <tr>\n",
       "      <th>4</th>\n",
       "      <td>D0</td>\n",
       "      <td>Driver_0</td>\n",
       "      <td>Alexandria</td>\n",
       "      <td>6</td>\n",
       "      <td>L708</td>\n",
       "      <td>SH708</td>\n",
       "      <td>2024-10-08</td>\n",
       "      <td>71</td>\n",
       "      <td>False</td>\n",
       "    </tr>\n",
       "  </tbody>\n",
       "</table>\n",
       "</div>"
      ],
      "text/plain": [
       "  driver_id driver_name      region  work_hours log_id shipment_id   log_date  \\\n",
       "0        D0    Driver_0  Alexandria           6   L187       SH187 2024-08-26   \n",
       "1        D0    Driver_0  Alexandria           6   L300       SH300 2024-04-25   \n",
       "2        D0    Driver_0  Alexandria           6   L587       SH587 2024-07-31   \n",
       "3        D0    Driver_0  Alexandria           6   L612       SH612 2024-05-08   \n",
       "4        D0    Driver_0  Alexandria           6   L708       SH708 2024-10-08   \n",
       "\n",
       "   duration_min  was_late  \n",
       "0            25     False  \n",
       "1            96     False  \n",
       "2           179     False  \n",
       "3            28     False  \n",
       "4            71     False  "
      ]
     },
     "execution_count": 22,
     "metadata": {},
     "output_type": "execute_result"
    }
   ],
   "source": [
    "delivers.head()"
   ]
  },
  {
   "cell_type": "code",
   "execution_count": 23,
   "id": "1bc64d48",
   "metadata": {},
   "outputs": [
    {
     "data": {
      "text/html": [
       "<div>\n",
       "<style scoped>\n",
       "    .dataframe tbody tr th:only-of-type {\n",
       "        vertical-align: middle;\n",
       "    }\n",
       "\n",
       "    .dataframe tbody tr th {\n",
       "        vertical-align: top;\n",
       "    }\n",
       "\n",
       "    .dataframe thead th {\n",
       "        text-align: right;\n",
       "    }\n",
       "</style>\n",
       "<table border=\"1\" class=\"dataframe\">\n",
       "  <thead>\n",
       "    <tr style=\"text-align: right;\">\n",
       "      <th></th>\n",
       "      <th>driver_id</th>\n",
       "      <th>delay_rate</th>\n",
       "    </tr>\n",
       "  </thead>\n",
       "  <tbody>\n",
       "    <tr>\n",
       "      <th>0</th>\n",
       "      <td>D69</td>\n",
       "      <td>0.25</td>\n",
       "    </tr>\n",
       "    <tr>\n",
       "      <th>1</th>\n",
       "      <td>D83</td>\n",
       "      <td>0.25</td>\n",
       "    </tr>\n",
       "    <tr>\n",
       "      <th>2</th>\n",
       "      <td>D3</td>\n",
       "      <td>0.25</td>\n",
       "    </tr>\n",
       "    <tr>\n",
       "      <th>3</th>\n",
       "      <td>D74</td>\n",
       "      <td>0.25</td>\n",
       "    </tr>\n",
       "    <tr>\n",
       "      <th>4</th>\n",
       "      <td>D97</td>\n",
       "      <td>0.25</td>\n",
       "    </tr>\n",
       "    <tr>\n",
       "      <th>5</th>\n",
       "      <td>D8</td>\n",
       "      <td>0.24</td>\n",
       "    </tr>\n",
       "    <tr>\n",
       "      <th>6</th>\n",
       "      <td>D71</td>\n",
       "      <td>0.24</td>\n",
       "    </tr>\n",
       "    <tr>\n",
       "      <th>7</th>\n",
       "      <td>D86</td>\n",
       "      <td>0.23</td>\n",
       "    </tr>\n",
       "    <tr>\n",
       "      <th>8</th>\n",
       "      <td>D10</td>\n",
       "      <td>0.23</td>\n",
       "    </tr>\n",
       "    <tr>\n",
       "      <th>9</th>\n",
       "      <td>D89</td>\n",
       "      <td>0.23</td>\n",
       "    </tr>\n",
       "  </tbody>\n",
       "</table>\n",
       "</div>"
      ],
      "text/plain": [
       "  driver_id  delay_rate\n",
       "0       D69        0.25\n",
       "1       D83        0.25\n",
       "2        D3        0.25\n",
       "3       D74        0.25\n",
       "4       D97        0.25\n",
       "5        D8        0.24\n",
       "6       D71        0.24\n",
       "7       D86        0.23\n",
       "8       D10        0.23\n",
       "9       D89        0.23"
      ]
     },
     "execution_count": 23,
     "metadata": {},
     "output_type": "execute_result"
    }
   ],
   "source": [
    "driver_delay=delivers.groupby('driver_id')['was_late'].mean().sort_values(ascending=False).reset_index().head(10)\n",
    "driver_delay.rename(columns={'was_late':'delay_rate'})"
   ]
  },
  {
   "cell_type": "code",
   "execution_count": 24,
   "id": "c3f13732",
   "metadata": {},
   "outputs": [],
   "source": [
    "shcd=shipmentaandcustomer.merge(delivers,how='left',on='shipment_id')"
   ]
  },
  {
   "cell_type": "code",
   "execution_count": 25,
   "id": "7bb2f1a3",
   "metadata": {},
   "outputs": [
    {
     "data": {
      "text/html": [
       "<div>\n",
       "<style scoped>\n",
       "    .dataframe tbody tr th:only-of-type {\n",
       "        vertical-align: middle;\n",
       "    }\n",
       "\n",
       "    .dataframe tbody tr th {\n",
       "        vertical-align: top;\n",
       "    }\n",
       "\n",
       "    .dataframe thead th {\n",
       "        text-align: right;\n",
       "    }\n",
       "</style>\n",
       "<table border=\"1\" class=\"dataframe\">\n",
       "  <thead>\n",
       "    <tr style=\"text-align: right;\">\n",
       "      <th></th>\n",
       "      <th>driver_id</th>\n",
       "      <th>delay</th>\n",
       "    </tr>\n",
       "  </thead>\n",
       "  <tbody>\n",
       "    <tr>\n",
       "      <th>43</th>\n",
       "      <td>D48</td>\n",
       "      <td>0.51</td>\n",
       "    </tr>\n",
       "    <tr>\n",
       "      <th>37</th>\n",
       "      <td>D42</td>\n",
       "      <td>0.45</td>\n",
       "    </tr>\n",
       "    <tr>\n",
       "      <th>69</th>\n",
       "      <td>D71</td>\n",
       "      <td>0.43</td>\n",
       "    </tr>\n",
       "    <tr>\n",
       "      <th>23</th>\n",
       "      <td>D3</td>\n",
       "      <td>0.40</td>\n",
       "    </tr>\n",
       "    <tr>\n",
       "      <th>11</th>\n",
       "      <td>D19</td>\n",
       "      <td>0.40</td>\n",
       "    </tr>\n",
       "    <tr>\n",
       "      <th>33</th>\n",
       "      <td>D39</td>\n",
       "      <td>0.39</td>\n",
       "    </tr>\n",
       "    <tr>\n",
       "      <th>21</th>\n",
       "      <td>D28</td>\n",
       "      <td>0.39</td>\n",
       "    </tr>\n",
       "    <tr>\n",
       "      <th>74</th>\n",
       "      <td>D76</td>\n",
       "      <td>0.39</td>\n",
       "    </tr>\n",
       "    <tr>\n",
       "      <th>7</th>\n",
       "      <td>D15</td>\n",
       "      <td>0.39</td>\n",
       "    </tr>\n",
       "    <tr>\n",
       "      <th>56</th>\n",
       "      <td>D6</td>\n",
       "      <td>0.38</td>\n",
       "    </tr>\n",
       "  </tbody>\n",
       "</table>\n",
       "</div>"
      ],
      "text/plain": [
       "   driver_id  delay\n",
       "43       D48   0.51\n",
       "37       D42   0.45\n",
       "69       D71   0.43\n",
       "23        D3   0.40\n",
       "11       D19   0.40\n",
       "33       D39   0.39\n",
       "21       D28   0.39\n",
       "74       D76   0.39\n",
       "7        D15   0.39\n",
       "56        D6   0.38"
      ]
     },
     "execution_count": 25,
     "metadata": {},
     "output_type": "execute_result"
    }
   ],
   "source": [
    "delay_by_driver = shcd[shcd['service_type']=='Same-Day'].groupby('driver_id')['status'].apply(lambda x: (x == 'Delayed').mean()).reset_index(name='delay')\n",
    "delay_by_driver.sort_values('delay',ascending=False).head(10)"
   ]
  },
  {
   "cell_type": "code",
   "execution_count": 26,
   "id": "3e24eed5",
   "metadata": {},
   "outputs": [
    {
     "data": {
      "text/html": [
       "<div>\n",
       "<style scoped>\n",
       "    .dataframe tbody tr th:only-of-type {\n",
       "        vertical-align: middle;\n",
       "    }\n",
       "\n",
       "    .dataframe tbody tr th {\n",
       "        vertical-align: top;\n",
       "    }\n",
       "\n",
       "    .dataframe thead th {\n",
       "        text-align: right;\n",
       "    }\n",
       "</style>\n",
       "<table border=\"1\" class=\"dataframe\">\n",
       "  <thead>\n",
       "    <tr style=\"text-align: right;\">\n",
       "      <th></th>\n",
       "      <th>driver_id</th>\n",
       "      <th>count</th>\n",
       "    </tr>\n",
       "  </thead>\n",
       "  <tbody>\n",
       "    <tr>\n",
       "      <th>53</th>\n",
       "      <td>D57</td>\n",
       "      <td>59</td>\n",
       "    </tr>\n",
       "    <tr>\n",
       "      <th>18</th>\n",
       "      <td>D25</td>\n",
       "      <td>56</td>\n",
       "    </tr>\n",
       "    <tr>\n",
       "      <th>27</th>\n",
       "      <td>D33</td>\n",
       "      <td>52</td>\n",
       "    </tr>\n",
       "    <tr>\n",
       "      <th>9</th>\n",
       "      <td>D17</td>\n",
       "      <td>52</td>\n",
       "    </tr>\n",
       "    <tr>\n",
       "      <th>5</th>\n",
       "      <td>D13</td>\n",
       "      <td>51</td>\n",
       "    </tr>\n",
       "    <tr>\n",
       "      <th>0</th>\n",
       "      <td>D0</td>\n",
       "      <td>50</td>\n",
       "    </tr>\n",
       "    <tr>\n",
       "      <th>47</th>\n",
       "      <td>D51</td>\n",
       "      <td>50</td>\n",
       "    </tr>\n",
       "    <tr>\n",
       "      <th>75</th>\n",
       "      <td>D77</td>\n",
       "      <td>50</td>\n",
       "    </tr>\n",
       "    <tr>\n",
       "      <th>57</th>\n",
       "      <td>D60</td>\n",
       "      <td>49</td>\n",
       "    </tr>\n",
       "    <tr>\n",
       "      <th>76</th>\n",
       "      <td>D78</td>\n",
       "      <td>49</td>\n",
       "    </tr>\n",
       "  </tbody>\n",
       "</table>\n",
       "</div>"
      ],
      "text/plain": [
       "   driver_id  count\n",
       "53       D57     59\n",
       "18       D25     56\n",
       "27       D33     52\n",
       "9        D17     52\n",
       "5        D13     51\n",
       "0         D0     50\n",
       "47       D51     50\n",
       "75       D77     50\n",
       "57       D60     49\n",
       "76       D78     49"
      ]
     },
     "execution_count": 26,
     "metadata": {},
     "output_type": "execute_result"
    }
   ],
   "source": [
    "number_of_ship_by_driver=shcd[shcd['service_type']=='Same-Day'].groupby('driver_id')['shipment_id'].count().reset_index(name='count')\n",
    "number_of_ship_by_driver.sort_values('count',ascending=False).head(10)"
   ]
  },
  {
   "cell_type": "code",
   "execution_count": 27,
   "id": "05e5865f",
   "metadata": {},
   "outputs": [
    {
     "data": {
      "text/html": [
       "<div>\n",
       "<style scoped>\n",
       "    .dataframe tbody tr th:only-of-type {\n",
       "        vertical-align: middle;\n",
       "    }\n",
       "\n",
       "    .dataframe tbody tr th {\n",
       "        vertical-align: top;\n",
       "    }\n",
       "\n",
       "    .dataframe thead th {\n",
       "        text-align: right;\n",
       "    }\n",
       "</style>\n",
       "<table border=\"1\" class=\"dataframe\">\n",
       "  <thead>\n",
       "    <tr style=\"text-align: right;\">\n",
       "      <th></th>\n",
       "      <th>driver_id</th>\n",
       "      <th>count</th>\n",
       "      <th>delay</th>\n",
       "    </tr>\n",
       "  </thead>\n",
       "  <tbody>\n",
       "    <tr>\n",
       "      <th>43</th>\n",
       "      <td>D48</td>\n",
       "      <td>37</td>\n",
       "      <td>0.51</td>\n",
       "    </tr>\n",
       "    <tr>\n",
       "      <th>37</th>\n",
       "      <td>D42</td>\n",
       "      <td>31</td>\n",
       "      <td>0.45</td>\n",
       "    </tr>\n",
       "    <tr>\n",
       "      <th>69</th>\n",
       "      <td>D71</td>\n",
       "      <td>37</td>\n",
       "      <td>0.43</td>\n",
       "    </tr>\n",
       "    <tr>\n",
       "      <th>23</th>\n",
       "      <td>D3</td>\n",
       "      <td>47</td>\n",
       "      <td>0.40</td>\n",
       "    </tr>\n",
       "    <tr>\n",
       "      <th>11</th>\n",
       "      <td>D19</td>\n",
       "      <td>43</td>\n",
       "      <td>0.40</td>\n",
       "    </tr>\n",
       "    <tr>\n",
       "      <th>33</th>\n",
       "      <td>D39</td>\n",
       "      <td>38</td>\n",
       "      <td>0.39</td>\n",
       "    </tr>\n",
       "    <tr>\n",
       "      <th>21</th>\n",
       "      <td>D28</td>\n",
       "      <td>41</td>\n",
       "      <td>0.39</td>\n",
       "    </tr>\n",
       "    <tr>\n",
       "      <th>74</th>\n",
       "      <td>D76</td>\n",
       "      <td>31</td>\n",
       "      <td>0.39</td>\n",
       "    </tr>\n",
       "    <tr>\n",
       "      <th>7</th>\n",
       "      <td>D15</td>\n",
       "      <td>44</td>\n",
       "      <td>0.39</td>\n",
       "    </tr>\n",
       "    <tr>\n",
       "      <th>56</th>\n",
       "      <td>D6</td>\n",
       "      <td>39</td>\n",
       "      <td>0.38</td>\n",
       "    </tr>\n",
       "  </tbody>\n",
       "</table>\n",
       "</div>"
      ],
      "text/plain": [
       "   driver_id  count  delay\n",
       "43       D48     37   0.51\n",
       "37       D42     31   0.45\n",
       "69       D71     37   0.43\n",
       "23        D3     47   0.40\n",
       "11       D19     43   0.40\n",
       "33       D39     38   0.39\n",
       "21       D28     41   0.39\n",
       "74       D76     31   0.39\n",
       "7        D15     44   0.39\n",
       "56        D6     39   0.38"
      ]
     },
     "execution_count": 27,
     "metadata": {},
     "output_type": "execute_result"
    }
   ],
   "source": [
    "driver_perf=number_of_ship_by_driver.merge(delay_by_driver,on='driver_id')\n",
    "driver_perf.sort_values('delay',ascending=False).head(10)"
   ]
  },
  {
   "cell_type": "code",
   "execution_count": 28,
   "id": "f02eca11",
   "metadata": {},
   "outputs": [
    {
     "data": {
      "text/html": [
       "<div>\n",
       "<style scoped>\n",
       "    .dataframe tbody tr th:only-of-type {\n",
       "        vertical-align: middle;\n",
       "    }\n",
       "\n",
       "    .dataframe tbody tr th {\n",
       "        vertical-align: top;\n",
       "    }\n",
       "\n",
       "    .dataframe thead th {\n",
       "        text-align: right;\n",
       "    }\n",
       "</style>\n",
       "<table border=\"1\" class=\"dataframe\">\n",
       "  <thead>\n",
       "    <tr style=\"text-align: right;\">\n",
       "      <th></th>\n",
       "      <th>driver_id</th>\n",
       "      <th>count</th>\n",
       "      <th>delay</th>\n",
       "      <th>region</th>\n",
       "    </tr>\n",
       "  </thead>\n",
       "  <tbody>\n",
       "    <tr>\n",
       "      <th>79</th>\n",
       "      <td>D80</td>\n",
       "      <td>39</td>\n",
       "      <td>0.21</td>\n",
       "      <td>Giza</td>\n",
       "    </tr>\n",
       "    <tr>\n",
       "      <th>40</th>\n",
       "      <td>D45</td>\n",
       "      <td>46</td>\n",
       "      <td>0.20</td>\n",
       "      <td>Cairo</td>\n",
       "    </tr>\n",
       "    <tr>\n",
       "      <th>34</th>\n",
       "      <td>D4</td>\n",
       "      <td>36</td>\n",
       "      <td>0.19</td>\n",
       "      <td>Cairo</td>\n",
       "    </tr>\n",
       "    <tr>\n",
       "      <th>9</th>\n",
       "      <td>D17</td>\n",
       "      <td>52</td>\n",
       "      <td>0.19</td>\n",
       "      <td>Alexandria</td>\n",
       "    </tr>\n",
       "    <tr>\n",
       "      <th>98</th>\n",
       "      <td>D98</td>\n",
       "      <td>42</td>\n",
       "      <td>0.19</td>\n",
       "      <td>Tanta</td>\n",
       "    </tr>\n",
       "    <tr>\n",
       "      <th>38</th>\n",
       "      <td>D43</td>\n",
       "      <td>43</td>\n",
       "      <td>0.19</td>\n",
       "      <td>Cairo</td>\n",
       "    </tr>\n",
       "    <tr>\n",
       "      <th>4</th>\n",
       "      <td>D12</td>\n",
       "      <td>33</td>\n",
       "      <td>0.18</td>\n",
       "      <td>Giza</td>\n",
       "    </tr>\n",
       "    <tr>\n",
       "      <th>19</th>\n",
       "      <td>D26</td>\n",
       "      <td>33</td>\n",
       "      <td>0.15</td>\n",
       "      <td>Cairo</td>\n",
       "    </tr>\n",
       "    <tr>\n",
       "      <th>3</th>\n",
       "      <td>D11</td>\n",
       "      <td>32</td>\n",
       "      <td>0.12</td>\n",
       "      <td>Tanta</td>\n",
       "    </tr>\n",
       "    <tr>\n",
       "      <th>49</th>\n",
       "      <td>D53</td>\n",
       "      <td>41</td>\n",
       "      <td>0.12</td>\n",
       "      <td>Giza</td>\n",
       "    </tr>\n",
       "  </tbody>\n",
       "</table>\n",
       "</div>"
      ],
      "text/plain": [
       "   driver_id  count  delay      region\n",
       "79       D80     39   0.21        Giza\n",
       "40       D45     46   0.20       Cairo\n",
       "34        D4     36   0.19       Cairo\n",
       "9        D17     52   0.19  Alexandria\n",
       "98       D98     42   0.19       Tanta\n",
       "38       D43     43   0.19       Cairo\n",
       "4        D12     33   0.18        Giza\n",
       "19       D26     33   0.15       Cairo\n",
       "3        D11     32   0.12       Tanta\n",
       "49       D53     41   0.12        Giza"
      ]
     },
     "execution_count": 28,
     "metadata": {},
     "output_type": "execute_result"
    }
   ],
   "source": [
    "drivers_full=driver_perf.merge(drivers[['driver_id','region']],on='driver_id',how='left')\n",
    "drivers_full.sort_values('delay', ascending=False).tail(10)\n"
   ]
  },
  {
   "cell_type": "code",
   "execution_count": 29,
   "id": "37f85a42",
   "metadata": {},
   "outputs": [
    {
     "data": {
      "text/plain": [
       "1216"
      ]
     },
     "execution_count": 29,
     "metadata": {},
     "output_type": "execute_result"
    }
   ],
   "source": [
    "sameday=shcd[shcd['service_type']=='Same-Day']\n",
    "sameday[sameday.status=='Delayed'].shape[0]"
   ]
  },
  {
   "cell_type": "code",
   "execution_count": 30,
   "id": "e31b5ea8",
   "metadata": {},
   "outputs": [],
   "source": [
    "num_ship=sameday.groupby('driver_id')['shipment_id'].count().reset_index(name='same_day_shipments')\n",
    "\n"
   ]
  },
  {
   "cell_type": "code",
   "execution_count": 31,
   "id": "d81b6cde",
   "metadata": {},
   "outputs": [
    {
     "data": {
      "text/html": [
       "<div>\n",
       "<style scoped>\n",
       "    .dataframe tbody tr th:only-of-type {\n",
       "        vertical-align: middle;\n",
       "    }\n",
       "\n",
       "    .dataframe tbody tr th {\n",
       "        vertical-align: top;\n",
       "    }\n",
       "\n",
       "    .dataframe thead th {\n",
       "        text-align: right;\n",
       "    }\n",
       "</style>\n",
       "<table border=\"1\" class=\"dataframe\">\n",
       "  <thead>\n",
       "    <tr style=\"text-align: right;\">\n",
       "      <th></th>\n",
       "      <th>driver_id</th>\n",
       "      <th>delay_same_day</th>\n",
       "    </tr>\n",
       "  </thead>\n",
       "  <tbody>\n",
       "    <tr>\n",
       "      <th>0</th>\n",
       "      <td>D0</td>\n",
       "      <td>0.28</td>\n",
       "    </tr>\n",
       "    <tr>\n",
       "      <th>1</th>\n",
       "      <td>D1</td>\n",
       "      <td>0.24</td>\n",
       "    </tr>\n",
       "    <tr>\n",
       "      <th>2</th>\n",
       "      <td>D10</td>\n",
       "      <td>0.32</td>\n",
       "    </tr>\n",
       "    <tr>\n",
       "      <th>3</th>\n",
       "      <td>D11</td>\n",
       "      <td>0.12</td>\n",
       "    </tr>\n",
       "    <tr>\n",
       "      <th>4</th>\n",
       "      <td>D12</td>\n",
       "      <td>0.18</td>\n",
       "    </tr>\n",
       "  </tbody>\n",
       "</table>\n",
       "</div>"
      ],
      "text/plain": [
       "  driver_id  delay_same_day\n",
       "0        D0            0.28\n",
       "1        D1            0.24\n",
       "2       D10            0.32\n",
       "3       D11            0.12\n",
       "4       D12            0.18"
      ]
     },
     "execution_count": 31,
     "metadata": {},
     "output_type": "execute_result"
    }
   ],
   "source": [
    "delay_rate = sameday.groupby('driver_id')['status'].apply(lambda x: (x == 'Delayed').mean()).reset_index(name='delay_same_day')\n",
    "delay_rate.head(5)\n"
   ]
  },
  {
   "cell_type": "code",
   "execution_count": 32,
   "id": "6218305e",
   "metadata": {},
   "outputs": [],
   "source": [
    "total_shipments=shcd.groupby('driver_id')['shipment_id'].count().reset_index(name=\"total_shipments\")"
   ]
  },
  {
   "cell_type": "code",
   "execution_count": 33,
   "id": "586e5837",
   "metadata": {},
   "outputs": [],
   "source": [
    "overall_delay=shcd.groupby('driver_id')['status'].apply(lambda x:(x=='Delayed').mean()).reset_index(name=\"overall_delay\")"
   ]
  },
  {
   "cell_type": "code",
   "execution_count": 34,
   "id": "fa584545",
   "metadata": {},
   "outputs": [
    {
     "data": {
      "text/html": [
       "<div>\n",
       "<style scoped>\n",
       "    .dataframe tbody tr th:only-of-type {\n",
       "        vertical-align: middle;\n",
       "    }\n",
       "\n",
       "    .dataframe tbody tr th {\n",
       "        vertical-align: top;\n",
       "    }\n",
       "\n",
       "    .dataframe thead th {\n",
       "        text-align: right;\n",
       "    }\n",
       "</style>\n",
       "<table border=\"1\" class=\"dataframe\">\n",
       "  <thead>\n",
       "    <tr style=\"text-align: right;\">\n",
       "      <th></th>\n",
       "      <th>driver_id</th>\n",
       "      <th>delayed_shipments</th>\n",
       "      <th>delay_share</th>\n",
       "    </tr>\n",
       "  </thead>\n",
       "  <tbody>\n",
       "    <tr>\n",
       "      <th>0</th>\n",
       "      <td>D0</td>\n",
       "      <td>14</td>\n",
       "      <td>1.15</td>\n",
       "    </tr>\n",
       "    <tr>\n",
       "      <th>1</th>\n",
       "      <td>D1</td>\n",
       "      <td>9</td>\n",
       "      <td>0.74</td>\n",
       "    </tr>\n",
       "    <tr>\n",
       "      <th>2</th>\n",
       "      <td>D10</td>\n",
       "      <td>14</td>\n",
       "      <td>1.15</td>\n",
       "    </tr>\n",
       "    <tr>\n",
       "      <th>3</th>\n",
       "      <td>D11</td>\n",
       "      <td>4</td>\n",
       "      <td>0.33</td>\n",
       "    </tr>\n",
       "    <tr>\n",
       "      <th>4</th>\n",
       "      <td>D12</td>\n",
       "      <td>6</td>\n",
       "      <td>0.49</td>\n",
       "    </tr>\n",
       "  </tbody>\n",
       "</table>\n",
       "</div>"
      ],
      "text/plain": [
       "  driver_id  delayed_shipments  delay_share\n",
       "0        D0                 14         1.15\n",
       "1        D1                  9         0.74\n",
       "2       D10                 14         1.15\n",
       "3       D11                  4         0.33\n",
       "4       D12                  6         0.49"
      ]
     },
     "execution_count": 34,
     "metadata": {},
     "output_type": "execute_result"
    }
   ],
   "source": [
    "total_same_day_delay = sameday['status'].value_counts().get('Delayed', 0)\n",
    "delay_contribution= sameday[sameday['status']=='Delayed'].groupby('driver_id')['shipment_id'].count().reset_index(name='delayed_shipments')\n",
    "delay_contribution['delay_share']=(delay_contribution['delayed_shipments']/total_same_day_delay)*100\n",
    "delay_contribution.head(5)"
   ]
  },
  {
   "cell_type": "code",
   "execution_count": 35,
   "id": "f4289c1b",
   "metadata": {},
   "outputs": [],
   "source": [
    "driver_performance= num_ship.merge(delay_rate,on='driver_id',how='outer')\\\n",
    "                    .merge(total_shipments,on='driver_id',how='outer')\\\n",
    "                    .merge(overall_delay,on='driver_id',how='outer')\\\n",
    "                    .merge(delay_contribution,on='driver_id',how='left')\\\n",
    "                    .merge(drivers[['driver_id','region']],on='driver_id',how='left')"
   ]
  },
  {
   "cell_type": "code",
   "execution_count": 36,
   "id": "d474772d",
   "metadata": {},
   "outputs": [
    {
     "data": {
      "text/html": [
       "<div>\n",
       "<style scoped>\n",
       "    .dataframe tbody tr th:only-of-type {\n",
       "        vertical-align: middle;\n",
       "    }\n",
       "\n",
       "    .dataframe tbody tr th {\n",
       "        vertical-align: top;\n",
       "    }\n",
       "\n",
       "    .dataframe thead th {\n",
       "        text-align: right;\n",
       "    }\n",
       "</style>\n",
       "<table border=\"1\" class=\"dataframe\">\n",
       "  <thead>\n",
       "    <tr style=\"text-align: right;\">\n",
       "      <th></th>\n",
       "      <th>driver_id</th>\n",
       "      <th>same_day_shipments</th>\n",
       "      <th>delay_same_day</th>\n",
       "      <th>total_shipments</th>\n",
       "      <th>overall_delay</th>\n",
       "      <th>delayed_shipments</th>\n",
       "      <th>delay_share</th>\n",
       "      <th>region</th>\n",
       "    </tr>\n",
       "  </thead>\n",
       "  <tbody>\n",
       "    <tr>\n",
       "      <th>0</th>\n",
       "      <td>D0</td>\n",
       "      <td>50</td>\n",
       "      <td>0.28</td>\n",
       "      <td>207</td>\n",
       "      <td>0.19</td>\n",
       "      <td>14</td>\n",
       "      <td>1.15</td>\n",
       "      <td>Alexandria</td>\n",
       "    </tr>\n",
       "    <tr>\n",
       "      <th>1</th>\n",
       "      <td>D1</td>\n",
       "      <td>37</td>\n",
       "      <td>0.24</td>\n",
       "      <td>198</td>\n",
       "      <td>0.19</td>\n",
       "      <td>9</td>\n",
       "      <td>0.74</td>\n",
       "      <td>Tanta</td>\n",
       "    </tr>\n",
       "    <tr>\n",
       "      <th>2</th>\n",
       "      <td>D10</td>\n",
       "      <td>44</td>\n",
       "      <td>0.32</td>\n",
       "      <td>195</td>\n",
       "      <td>0.23</td>\n",
       "      <td>14</td>\n",
       "      <td>1.15</td>\n",
       "      <td>Tanta</td>\n",
       "    </tr>\n",
       "    <tr>\n",
       "      <th>3</th>\n",
       "      <td>D11</td>\n",
       "      <td>32</td>\n",
       "      <td>0.12</td>\n",
       "      <td>189</td>\n",
       "      <td>0.22</td>\n",
       "      <td>4</td>\n",
       "      <td>0.33</td>\n",
       "      <td>Tanta</td>\n",
       "    </tr>\n",
       "    <tr>\n",
       "      <th>4</th>\n",
       "      <td>D12</td>\n",
       "      <td>33</td>\n",
       "      <td>0.18</td>\n",
       "      <td>167</td>\n",
       "      <td>0.11</td>\n",
       "      <td>6</td>\n",
       "      <td>0.49</td>\n",
       "      <td>Giza</td>\n",
       "    </tr>\n",
       "  </tbody>\n",
       "</table>\n",
       "</div>"
      ],
      "text/plain": [
       "  driver_id  same_day_shipments  delay_same_day  total_shipments  \\\n",
       "0        D0                  50            0.28              207   \n",
       "1        D1                  37            0.24              198   \n",
       "2       D10                  44            0.32              195   \n",
       "3       D11                  32            0.12              189   \n",
       "4       D12                  33            0.18              167   \n",
       "\n",
       "   overall_delay  delayed_shipments  delay_share      region  \n",
       "0           0.19                 14         1.15  Alexandria  \n",
       "1           0.19                  9         0.74       Tanta  \n",
       "2           0.23                 14         1.15       Tanta  \n",
       "3           0.22                  4         0.33       Tanta  \n",
       "4           0.11                  6         0.49        Giza  "
      ]
     },
     "execution_count": 36,
     "metadata": {},
     "output_type": "execute_result"
    }
   ],
   "source": [
    "driver_performance.head(5)\n"
   ]
  },
  {
   "cell_type": "code",
   "execution_count": 37,
   "id": "df2a99a1",
   "metadata": {},
   "outputs": [
    {
     "data": {
      "text/html": [
       "<div>\n",
       "<style scoped>\n",
       "    .dataframe tbody tr th:only-of-type {\n",
       "        vertical-align: middle;\n",
       "    }\n",
       "\n",
       "    .dataframe tbody tr th {\n",
       "        vertical-align: top;\n",
       "    }\n",
       "\n",
       "    .dataframe thead th {\n",
       "        text-align: right;\n",
       "    }\n",
       "</style>\n",
       "<table border=\"1\" class=\"dataframe\">\n",
       "  <thead>\n",
       "    <tr style=\"text-align: right;\">\n",
       "      <th></th>\n",
       "      <th>driver_id</th>\n",
       "      <th>same_day_shipments</th>\n",
       "      <th>delay_same_day</th>\n",
       "      <th>total_shipments</th>\n",
       "      <th>overall_delay</th>\n",
       "      <th>delayed_shipments</th>\n",
       "      <th>delay_share</th>\n",
       "      <th>region</th>\n",
       "      <th>category</th>\n",
       "    </tr>\n",
       "  </thead>\n",
       "  <tbody>\n",
       "    <tr>\n",
       "      <th>43</th>\n",
       "      <td>D48</td>\n",
       "      <td>37</td>\n",
       "      <td>0.51</td>\n",
       "      <td>208</td>\n",
       "      <td>0.20</td>\n",
       "      <td>19</td>\n",
       "      <td>1.56</td>\n",
       "      <td>Giza</td>\n",
       "      <td>poor performance (not overloaded)</td>\n",
       "    </tr>\n",
       "    <tr>\n",
       "      <th>37</th>\n",
       "      <td>D42</td>\n",
       "      <td>31</td>\n",
       "      <td>0.45</td>\n",
       "      <td>189</td>\n",
       "      <td>0.22</td>\n",
       "      <td>14</td>\n",
       "      <td>1.15</td>\n",
       "      <td>Alexandria</td>\n",
       "      <td>poor performance (not overloaded)</td>\n",
       "    </tr>\n",
       "    <tr>\n",
       "      <th>69</th>\n",
       "      <td>D71</td>\n",
       "      <td>37</td>\n",
       "      <td>0.43</td>\n",
       "      <td>182</td>\n",
       "      <td>0.24</td>\n",
       "      <td>16</td>\n",
       "      <td>1.32</td>\n",
       "      <td>Tanta</td>\n",
       "      <td>poor performance (not overloaded)</td>\n",
       "    </tr>\n",
       "    <tr>\n",
       "      <th>23</th>\n",
       "      <td>D3</td>\n",
       "      <td>47</td>\n",
       "      <td>0.40</td>\n",
       "      <td>192</td>\n",
       "      <td>0.25</td>\n",
       "      <td>19</td>\n",
       "      <td>1.56</td>\n",
       "      <td>Assiut</td>\n",
       "      <td>poor performance (overloaded)</td>\n",
       "    </tr>\n",
       "    <tr>\n",
       "      <th>11</th>\n",
       "      <td>D19</td>\n",
       "      <td>43</td>\n",
       "      <td>0.40</td>\n",
       "      <td>201</td>\n",
       "      <td>0.21</td>\n",
       "      <td>17</td>\n",
       "      <td>1.40</td>\n",
       "      <td>Alexandria</td>\n",
       "      <td>poor performance (overloaded)</td>\n",
       "    </tr>\n",
       "    <tr>\n",
       "      <th>33</th>\n",
       "      <td>D39</td>\n",
       "      <td>38</td>\n",
       "      <td>0.39</td>\n",
       "      <td>210</td>\n",
       "      <td>0.20</td>\n",
       "      <td>15</td>\n",
       "      <td>1.23</td>\n",
       "      <td>Cairo</td>\n",
       "      <td>poor performance (not overloaded)</td>\n",
       "    </tr>\n",
       "    <tr>\n",
       "      <th>21</th>\n",
       "      <td>D28</td>\n",
       "      <td>41</td>\n",
       "      <td>0.39</td>\n",
       "      <td>204</td>\n",
       "      <td>0.19</td>\n",
       "      <td>16</td>\n",
       "      <td>1.32</td>\n",
       "      <td>Alexandria</td>\n",
       "      <td>poor performance (overloaded)</td>\n",
       "    </tr>\n",
       "    <tr>\n",
       "      <th>74</th>\n",
       "      <td>D76</td>\n",
       "      <td>31</td>\n",
       "      <td>0.39</td>\n",
       "      <td>194</td>\n",
       "      <td>0.16</td>\n",
       "      <td>12</td>\n",
       "      <td>0.99</td>\n",
       "      <td>Giza</td>\n",
       "      <td>good</td>\n",
       "    </tr>\n",
       "    <tr>\n",
       "      <th>7</th>\n",
       "      <td>D15</td>\n",
       "      <td>44</td>\n",
       "      <td>0.39</td>\n",
       "      <td>207</td>\n",
       "      <td>0.21</td>\n",
       "      <td>17</td>\n",
       "      <td>1.40</td>\n",
       "      <td>Assiut</td>\n",
       "      <td>good</td>\n",
       "    </tr>\n",
       "    <tr>\n",
       "      <th>56</th>\n",
       "      <td>D6</td>\n",
       "      <td>39</td>\n",
       "      <td>0.38</td>\n",
       "      <td>199</td>\n",
       "      <td>0.21</td>\n",
       "      <td>15</td>\n",
       "      <td>1.23</td>\n",
       "      <td>Alexandria</td>\n",
       "      <td>good</td>\n",
       "    </tr>\n",
       "  </tbody>\n",
       "</table>\n",
       "</div>"
      ],
      "text/plain": [
       "   driver_id  same_day_shipments  delay_same_day  total_shipments  \\\n",
       "43       D48                  37            0.51              208   \n",
       "37       D42                  31            0.45              189   \n",
       "69       D71                  37            0.43              182   \n",
       "23        D3                  47            0.40              192   \n",
       "11       D19                  43            0.40              201   \n",
       "33       D39                  38            0.39              210   \n",
       "21       D28                  41            0.39              204   \n",
       "74       D76                  31            0.39              194   \n",
       "7        D15                  44            0.39              207   \n",
       "56        D6                  39            0.38              199   \n",
       "\n",
       "    overall_delay  delayed_shipments  delay_share      region  \\\n",
       "43           0.20                 19         1.56        Giza   \n",
       "37           0.22                 14         1.15  Alexandria   \n",
       "69           0.24                 16         1.32       Tanta   \n",
       "23           0.25                 19         1.56      Assiut   \n",
       "11           0.21                 17         1.40  Alexandria   \n",
       "33           0.20                 15         1.23       Cairo   \n",
       "21           0.19                 16         1.32  Alexandria   \n",
       "74           0.16                 12         0.99        Giza   \n",
       "7            0.21                 17         1.40      Assiut   \n",
       "56           0.21                 15         1.23  Alexandria   \n",
       "\n",
       "                             category  \n",
       "43  poor performance (not overloaded)  \n",
       "37  poor performance (not overloaded)  \n",
       "69  poor performance (not overloaded)  \n",
       "23      poor performance (overloaded)  \n",
       "11      poor performance (overloaded)  \n",
       "33  poor performance (not overloaded)  \n",
       "21      poor performance (overloaded)  \n",
       "74                               good  \n",
       "7                                good  \n",
       "56                               good  "
      ]
     },
     "execution_count": 37,
     "metadata": {},
     "output_type": "execute_result"
    }
   ],
   "source": [
    "def classify_driver(driver):\n",
    "    if driver['delay_same_day'] >= 0.39 and driver['same_day_shipments'] < 40:\n",
    "        return 'poor performance (not overloaded)'\n",
    "    elif driver['delay_same_day'] >= 0.39 and driver['same_day_shipments'] > 40:\n",
    "        return 'poor performance (overloaded)'\n",
    "    elif driver['delay_same_day'] < 0.2 and driver['same_day_shipments'] > 40:\n",
    "        return 'good & efficient'\n",
    "    else:\n",
    "        return 'good'\n",
    "\n",
    "driver_performance['category']=driver_performance.apply(classify_driver,axis=1)\n",
    "top10=driver_performance.sort_values('delay_same_day',ascending=False).head(10)\n",
    "tow_var=top10[['driver_id','same_day_shipments','delay_same_day']]\n",
    "top10"
   ]
  },
  {
   "cell_type": "code",
   "execution_count": 38,
   "id": "6c96432e",
   "metadata": {},
   "outputs": [
    {
     "data": {
      "application/vnd.plotly.v1+json": {
       "config": {
        "plotlyServerURL": "https://plot.ly"
       },
       "data": [
        {
         "alignmentgroup": "True",
         "hovertemplate": "variable=same_day_shipments<br>Driver_ID=%{x}<br>Value=%{y}<extra></extra>",
         "legendgroup": "same_day_shipments",
         "marker": {
          "color": "#636efa",
          "pattern": {
           "shape": ""
          }
         },
         "name": "same_day_shipments",
         "offsetgroup": "same_day_shipments",
         "orientation": "v",
         "showlegend": true,
         "textposition": "auto",
         "texttemplate": "%{y}",
         "type": "bar",
         "x": [
          "D48",
          "D42",
          "D71",
          "D3",
          "D19",
          "D39",
          "D28",
          "D76",
          "D15",
          "D6"
         ],
         "xaxis": "x",
         "y": [
          37,
          31,
          37,
          47,
          43,
          38,
          41,
          31,
          44,
          39
         ],
         "yaxis": "y"
        },
        {
         "alignmentgroup": "True",
         "hovertemplate": "variable=delay_same_day<br>Driver_ID=%{x}<br>Value=%{y}<extra></extra>",
         "legendgroup": "delay_same_day",
         "marker": {
          "color": "#EF553B",
          "pattern": {
           "shape": ""
          }
         },
         "name": "delay_same_day",
         "offsetgroup": "delay_same_day",
         "orientation": "v",
         "showlegend": true,
         "textposition": "auto",
         "texttemplate": "%{y}",
         "type": "bar",
         "x": [
          "D48",
          "D42",
          "D71",
          "D3",
          "D19",
          "D39",
          "D28",
          "D76",
          "D15",
          "D6"
         ],
         "xaxis": "x",
         "y": [
          0.5135135135135135,
          0.45161290322580644,
          0.43243243243243246,
          0.40425531914893614,
          0.3953488372093023,
          0.39473684210526316,
          0.3902439024390244,
          0.3870967741935484,
          0.38636363636363635,
          0.38461538461538464
         ],
         "yaxis": "y2"
        }
       ],
       "layout": {
        "barmode": "group",
        "legend": {
         "title": {
          "text": "Legend"
         },
         "tracegroupgap": 0
        },
        "template": {
         "data": {
          "bar": [
           {
            "error_x": {
             "color": "#2a3f5f"
            },
            "error_y": {
             "color": "#2a3f5f"
            },
            "marker": {
             "line": {
              "color": "#E5ECF6",
              "width": 0.5
             },
             "pattern": {
              "fillmode": "overlay",
              "size": 10,
              "solidity": 0.2
             }
            },
            "type": "bar"
           }
          ],
          "barpolar": [
           {
            "marker": {
             "line": {
              "color": "#E5ECF6",
              "width": 0.5
             },
             "pattern": {
              "fillmode": "overlay",
              "size": 10,
              "solidity": 0.2
             }
            },
            "type": "barpolar"
           }
          ],
          "carpet": [
           {
            "aaxis": {
             "endlinecolor": "#2a3f5f",
             "gridcolor": "white",
             "linecolor": "white",
             "minorgridcolor": "white",
             "startlinecolor": "#2a3f5f"
            },
            "baxis": {
             "endlinecolor": "#2a3f5f",
             "gridcolor": "white",
             "linecolor": "white",
             "minorgridcolor": "white",
             "startlinecolor": "#2a3f5f"
            },
            "type": "carpet"
           }
          ],
          "choropleth": [
           {
            "colorbar": {
             "outlinewidth": 0,
             "ticks": ""
            },
            "type": "choropleth"
           }
          ],
          "contour": [
           {
            "colorbar": {
             "outlinewidth": 0,
             "ticks": ""
            },
            "colorscale": [
             [
              0,
              "#0d0887"
             ],
             [
              0.1111111111111111,
              "#46039f"
             ],
             [
              0.2222222222222222,
              "#7201a8"
             ],
             [
              0.3333333333333333,
              "#9c179e"
             ],
             [
              0.4444444444444444,
              "#bd3786"
             ],
             [
              0.5555555555555556,
              "#d8576b"
             ],
             [
              0.6666666666666666,
              "#ed7953"
             ],
             [
              0.7777777777777778,
              "#fb9f3a"
             ],
             [
              0.8888888888888888,
              "#fdca26"
             ],
             [
              1,
              "#f0f921"
             ]
            ],
            "type": "contour"
           }
          ],
          "contourcarpet": [
           {
            "colorbar": {
             "outlinewidth": 0,
             "ticks": ""
            },
            "type": "contourcarpet"
           }
          ],
          "heatmap": [
           {
            "colorbar": {
             "outlinewidth": 0,
             "ticks": ""
            },
            "colorscale": [
             [
              0,
              "#0d0887"
             ],
             [
              0.1111111111111111,
              "#46039f"
             ],
             [
              0.2222222222222222,
              "#7201a8"
             ],
             [
              0.3333333333333333,
              "#9c179e"
             ],
             [
              0.4444444444444444,
              "#bd3786"
             ],
             [
              0.5555555555555556,
              "#d8576b"
             ],
             [
              0.6666666666666666,
              "#ed7953"
             ],
             [
              0.7777777777777778,
              "#fb9f3a"
             ],
             [
              0.8888888888888888,
              "#fdca26"
             ],
             [
              1,
              "#f0f921"
             ]
            ],
            "type": "heatmap"
           }
          ],
          "heatmapgl": [
           {
            "colorbar": {
             "outlinewidth": 0,
             "ticks": ""
            },
            "colorscale": [
             [
              0,
              "#0d0887"
             ],
             [
              0.1111111111111111,
              "#46039f"
             ],
             [
              0.2222222222222222,
              "#7201a8"
             ],
             [
              0.3333333333333333,
              "#9c179e"
             ],
             [
              0.4444444444444444,
              "#bd3786"
             ],
             [
              0.5555555555555556,
              "#d8576b"
             ],
             [
              0.6666666666666666,
              "#ed7953"
             ],
             [
              0.7777777777777778,
              "#fb9f3a"
             ],
             [
              0.8888888888888888,
              "#fdca26"
             ],
             [
              1,
              "#f0f921"
             ]
            ],
            "type": "heatmapgl"
           }
          ],
          "histogram": [
           {
            "marker": {
             "pattern": {
              "fillmode": "overlay",
              "size": 10,
              "solidity": 0.2
             }
            },
            "type": "histogram"
           }
          ],
          "histogram2d": [
           {
            "colorbar": {
             "outlinewidth": 0,
             "ticks": ""
            },
            "colorscale": [
             [
              0,
              "#0d0887"
             ],
             [
              0.1111111111111111,
              "#46039f"
             ],
             [
              0.2222222222222222,
              "#7201a8"
             ],
             [
              0.3333333333333333,
              "#9c179e"
             ],
             [
              0.4444444444444444,
              "#bd3786"
             ],
             [
              0.5555555555555556,
              "#d8576b"
             ],
             [
              0.6666666666666666,
              "#ed7953"
             ],
             [
              0.7777777777777778,
              "#fb9f3a"
             ],
             [
              0.8888888888888888,
              "#fdca26"
             ],
             [
              1,
              "#f0f921"
             ]
            ],
            "type": "histogram2d"
           }
          ],
          "histogram2dcontour": [
           {
            "colorbar": {
             "outlinewidth": 0,
             "ticks": ""
            },
            "colorscale": [
             [
              0,
              "#0d0887"
             ],
             [
              0.1111111111111111,
              "#46039f"
             ],
             [
              0.2222222222222222,
              "#7201a8"
             ],
             [
              0.3333333333333333,
              "#9c179e"
             ],
             [
              0.4444444444444444,
              "#bd3786"
             ],
             [
              0.5555555555555556,
              "#d8576b"
             ],
             [
              0.6666666666666666,
              "#ed7953"
             ],
             [
              0.7777777777777778,
              "#fb9f3a"
             ],
             [
              0.8888888888888888,
              "#fdca26"
             ],
             [
              1,
              "#f0f921"
             ]
            ],
            "type": "histogram2dcontour"
           }
          ],
          "mesh3d": [
           {
            "colorbar": {
             "outlinewidth": 0,
             "ticks": ""
            },
            "type": "mesh3d"
           }
          ],
          "parcoords": [
           {
            "line": {
             "colorbar": {
              "outlinewidth": 0,
              "ticks": ""
             }
            },
            "type": "parcoords"
           }
          ],
          "pie": [
           {
            "automargin": true,
            "type": "pie"
           }
          ],
          "scatter": [
           {
            "fillpattern": {
             "fillmode": "overlay",
             "size": 10,
             "solidity": 0.2
            },
            "type": "scatter"
           }
          ],
          "scatter3d": [
           {
            "line": {
             "colorbar": {
              "outlinewidth": 0,
              "ticks": ""
             }
            },
            "marker": {
             "colorbar": {
              "outlinewidth": 0,
              "ticks": ""
             }
            },
            "type": "scatter3d"
           }
          ],
          "scattercarpet": [
           {
            "marker": {
             "colorbar": {
              "outlinewidth": 0,
              "ticks": ""
             }
            },
            "type": "scattercarpet"
           }
          ],
          "scattergeo": [
           {
            "marker": {
             "colorbar": {
              "outlinewidth": 0,
              "ticks": ""
             }
            },
            "type": "scattergeo"
           }
          ],
          "scattergl": [
           {
            "marker": {
             "colorbar": {
              "outlinewidth": 0,
              "ticks": ""
             }
            },
            "type": "scattergl"
           }
          ],
          "scattermapbox": [
           {
            "marker": {
             "colorbar": {
              "outlinewidth": 0,
              "ticks": ""
             }
            },
            "type": "scattermapbox"
           }
          ],
          "scatterpolar": [
           {
            "marker": {
             "colorbar": {
              "outlinewidth": 0,
              "ticks": ""
             }
            },
            "type": "scatterpolar"
           }
          ],
          "scatterpolargl": [
           {
            "marker": {
             "colorbar": {
              "outlinewidth": 0,
              "ticks": ""
             }
            },
            "type": "scatterpolargl"
           }
          ],
          "scatterternary": [
           {
            "marker": {
             "colorbar": {
              "outlinewidth": 0,
              "ticks": ""
             }
            },
            "type": "scatterternary"
           }
          ],
          "surface": [
           {
            "colorbar": {
             "outlinewidth": 0,
             "ticks": ""
            },
            "colorscale": [
             [
              0,
              "#0d0887"
             ],
             [
              0.1111111111111111,
              "#46039f"
             ],
             [
              0.2222222222222222,
              "#7201a8"
             ],
             [
              0.3333333333333333,
              "#9c179e"
             ],
             [
              0.4444444444444444,
              "#bd3786"
             ],
             [
              0.5555555555555556,
              "#d8576b"
             ],
             [
              0.6666666666666666,
              "#ed7953"
             ],
             [
              0.7777777777777778,
              "#fb9f3a"
             ],
             [
              0.8888888888888888,
              "#fdca26"
             ],
             [
              1,
              "#f0f921"
             ]
            ],
            "type": "surface"
           }
          ],
          "table": [
           {
            "cells": {
             "fill": {
              "color": "#EBF0F8"
             },
             "line": {
              "color": "white"
             }
            },
            "header": {
             "fill": {
              "color": "#C8D4E3"
             },
             "line": {
              "color": "white"
             }
            },
            "type": "table"
           }
          ]
         },
         "layout": {
          "annotationdefaults": {
           "arrowcolor": "#2a3f5f",
           "arrowhead": 0,
           "arrowwidth": 1
          },
          "autotypenumbers": "strict",
          "coloraxis": {
           "colorbar": {
            "outlinewidth": 0,
            "ticks": ""
           }
          },
          "colorscale": {
           "diverging": [
            [
             0,
             "#8e0152"
            ],
            [
             0.1,
             "#c51b7d"
            ],
            [
             0.2,
             "#de77ae"
            ],
            [
             0.3,
             "#f1b6da"
            ],
            [
             0.4,
             "#fde0ef"
            ],
            [
             0.5,
             "#f7f7f7"
            ],
            [
             0.6,
             "#e6f5d0"
            ],
            [
             0.7,
             "#b8e186"
            ],
            [
             0.8,
             "#7fbc41"
            ],
            [
             0.9,
             "#4d9221"
            ],
            [
             1,
             "#276419"
            ]
           ],
           "sequential": [
            [
             0,
             "#0d0887"
            ],
            [
             0.1111111111111111,
             "#46039f"
            ],
            [
             0.2222222222222222,
             "#7201a8"
            ],
            [
             0.3333333333333333,
             "#9c179e"
            ],
            [
             0.4444444444444444,
             "#bd3786"
            ],
            [
             0.5555555555555556,
             "#d8576b"
            ],
            [
             0.6666666666666666,
             "#ed7953"
            ],
            [
             0.7777777777777778,
             "#fb9f3a"
            ],
            [
             0.8888888888888888,
             "#fdca26"
            ],
            [
             1,
             "#f0f921"
            ]
           ],
           "sequentialminus": [
            [
             0,
             "#0d0887"
            ],
            [
             0.1111111111111111,
             "#46039f"
            ],
            [
             0.2222222222222222,
             "#7201a8"
            ],
            [
             0.3333333333333333,
             "#9c179e"
            ],
            [
             0.4444444444444444,
             "#bd3786"
            ],
            [
             0.5555555555555556,
             "#d8576b"
            ],
            [
             0.6666666666666666,
             "#ed7953"
            ],
            [
             0.7777777777777778,
             "#fb9f3a"
            ],
            [
             0.8888888888888888,
             "#fdca26"
            ],
            [
             1,
             "#f0f921"
            ]
           ]
          },
          "colorway": [
           "#636efa",
           "#EF553B",
           "#00cc96",
           "#ab63fa",
           "#FFA15A",
           "#19d3f3",
           "#FF6692",
           "#B6E880",
           "#FF97FF",
           "#FECB52"
          ],
          "font": {
           "color": "#2a3f5f"
          },
          "geo": {
           "bgcolor": "white",
           "lakecolor": "white",
           "landcolor": "#E5ECF6",
           "showlakes": true,
           "showland": true,
           "subunitcolor": "white"
          },
          "hoverlabel": {
           "align": "left"
          },
          "hovermode": "closest",
          "mapbox": {
           "style": "light"
          },
          "paper_bgcolor": "white",
          "plot_bgcolor": "#E5ECF6",
          "polar": {
           "angularaxis": {
            "gridcolor": "white",
            "linecolor": "white",
            "ticks": ""
           },
           "bgcolor": "#E5ECF6",
           "radialaxis": {
            "gridcolor": "white",
            "linecolor": "white",
            "ticks": ""
           }
          },
          "scene": {
           "xaxis": {
            "backgroundcolor": "#E5ECF6",
            "gridcolor": "white",
            "gridwidth": 2,
            "linecolor": "white",
            "showbackground": true,
            "ticks": "",
            "zerolinecolor": "white"
           },
           "yaxis": {
            "backgroundcolor": "#E5ECF6",
            "gridcolor": "white",
            "gridwidth": 2,
            "linecolor": "white",
            "showbackground": true,
            "ticks": "",
            "zerolinecolor": "white"
           },
           "zaxis": {
            "backgroundcolor": "#E5ECF6",
            "gridcolor": "white",
            "gridwidth": 2,
            "linecolor": "white",
            "showbackground": true,
            "ticks": "",
            "zerolinecolor": "white"
           }
          },
          "shapedefaults": {
           "line": {
            "color": "#2a3f5f"
           }
          },
          "ternary": {
           "aaxis": {
            "gridcolor": "white",
            "linecolor": "white",
            "ticks": ""
           },
           "baxis": {
            "gridcolor": "white",
            "linecolor": "white",
            "ticks": ""
           },
           "bgcolor": "#E5ECF6",
           "caxis": {
            "gridcolor": "white",
            "linecolor": "white",
            "ticks": ""
           }
          },
          "title": {
           "x": 0.05
          },
          "xaxis": {
           "automargin": true,
           "gridcolor": "white",
           "linecolor": "white",
           "ticks": "",
           "title": {
            "standoff": 15
           },
           "zerolinecolor": "white",
           "zerolinewidth": 2
          },
          "yaxis": {
           "automargin": true,
           "gridcolor": "white",
           "linecolor": "white",
           "ticks": "",
           "title": {
            "standoff": 15
           },
           "zerolinecolor": "white",
           "zerolinewidth": 2
          }
         }
        },
        "title": {
         "text": "Driver_performance"
        },
        "xaxis": {
         "anchor": "y",
         "domain": [
          0,
          1
         ],
         "title": {
          "text": "Driver_ID"
         }
        },
        "yaxis": {
         "anchor": "x",
         "domain": [
          0,
          1
         ],
         "range": [
          0,
          56.4
         ],
         "title": {
          "text": "num_shipments"
         }
        },
        "yaxis2": {
         "overlaying": "y",
         "range": [
          0,
          0.91
         ],
         "side": "right",
         "title": {
          "text": "delay%"
         }
        }
       }
      }
     },
     "metadata": {},
     "output_type": "display_data"
    }
   ],
   "source": [
    "fig=px.bar(tow_var,x='driver_id',y=['same_day_shipments','delay_same_day'],title='Driver_performance',labels={'value':'Value','driver_id':'Driver_ID'},color_discrete_map=None,barmode='group',text_auto=True)\n",
    "fig.update_layout(\n",
    "    \n",
    "    yaxis=dict(title='num_shipments', range=[0, tow_var['same_day_shipments'].max() * 1.2]),\n",
    "    yaxis2=dict(title='delay%', overlaying='y', side='right', range=[0, 0.91]),\n",
    "    legend_title_text='Legend'\n",
    ")\n",
    "fig.for_each_trace(lambda x:x.update(yaxis='y2')if x.name =='delay_same_day'else())\n",
    "fig.show()"
   ]
  },
  {
   "cell_type": "code",
   "execution_count": 39,
   "id": "edc96c97",
   "metadata": {},
   "outputs": [],
   "source": [
    "shcd['ship_month']=shcd['ship_date'].dt.to_period('M')\n",
    "monthly_shipments=shcd.groupby(['driver_id','ship_month'])['shipment_id'].count().reset_index(name='monthly_shipments')\n",
    "top_loaded=monthly_shipments.sort_values('monthly_shipments',ascending=False).head(10)\n",
    "least_loaded=monthly_shipments.sort_values('monthly_shipments',ascending=True).head(10)\n"
   ]
  },
  {
   "cell_type": "code",
   "execution_count": 40,
   "id": "e18137e3",
   "metadata": {},
   "outputs": [
    {
     "data": {
      "text/html": [
       "<div>\n",
       "<style scoped>\n",
       "    .dataframe tbody tr th:only-of-type {\n",
       "        vertical-align: middle;\n",
       "    }\n",
       "\n",
       "    .dataframe tbody tr th {\n",
       "        vertical-align: top;\n",
       "    }\n",
       "\n",
       "    .dataframe thead th {\n",
       "        text-align: right;\n",
       "    }\n",
       "</style>\n",
       "<table border=\"1\" class=\"dataframe\">\n",
       "  <thead>\n",
       "    <tr style=\"text-align: right;\">\n",
       "      <th></th>\n",
       "      <th>driver_id</th>\n",
       "      <th>avg_monthly_shipments</th>\n",
       "    </tr>\n",
       "  </thead>\n",
       "  <tbody>\n",
       "    <tr>\n",
       "      <th>9</th>\n",
       "      <td>D17</td>\n",
       "      <td>19.33</td>\n",
       "    </tr>\n",
       "    <tr>\n",
       "      <th>99</th>\n",
       "      <td>D99</td>\n",
       "      <td>19.33</td>\n",
       "    </tr>\n",
       "    <tr>\n",
       "      <th>53</th>\n",
       "      <td>D57</td>\n",
       "      <td>19.17</td>\n",
       "    </tr>\n",
       "    <tr>\n",
       "      <th>61</th>\n",
       "      <td>D64</td>\n",
       "      <td>19.08</td>\n",
       "    </tr>\n",
       "    <tr>\n",
       "      <th>20</th>\n",
       "      <td>D27</td>\n",
       "      <td>19.00</td>\n",
       "    </tr>\n",
       "    <tr>\n",
       "      <th>77</th>\n",
       "      <td>D79</td>\n",
       "      <td>18.92</td>\n",
       "    </tr>\n",
       "    <tr>\n",
       "      <th>10</th>\n",
       "      <td>D18</td>\n",
       "      <td>18.92</td>\n",
       "    </tr>\n",
       "    <tr>\n",
       "      <th>51</th>\n",
       "      <td>D55</td>\n",
       "      <td>18.83</td>\n",
       "    </tr>\n",
       "    <tr>\n",
       "      <th>65</th>\n",
       "      <td>D68</td>\n",
       "      <td>18.67</td>\n",
       "    </tr>\n",
       "    <tr>\n",
       "      <th>27</th>\n",
       "      <td>D33</td>\n",
       "      <td>18.67</td>\n",
       "    </tr>\n",
       "  </tbody>\n",
       "</table>\n",
       "</div>"
      ],
      "text/plain": [
       "   driver_id  avg_monthly_shipments\n",
       "9        D17                  19.33\n",
       "99       D99                  19.33\n",
       "53       D57                  19.17\n",
       "61       D64                  19.08\n",
       "20       D27                  19.00\n",
       "77       D79                  18.92\n",
       "10       D18                  18.92\n",
       "51       D55                  18.83\n",
       "65       D68                  18.67\n",
       "27       D33                  18.67"
      ]
     },
     "execution_count": 40,
     "metadata": {},
     "output_type": "execute_result"
    }
   ],
   "source": [
    "avg_monthly = monthly_shipments.groupby('driver_id')['monthly_shipments'].mean().reset_index(name='avg_monthly_shipments')\n",
    "avg_monthly.sort_values('avg_monthly_shipments', ascending=False).head(10)\n"
   ]
  },
  {
   "cell_type": "code",
   "execution_count": 41,
   "id": "6b471cdb",
   "metadata": {},
   "outputs": [
    {
     "name": "stdout",
     "output_type": "stream",
     "text": [
      "<class 'pandas.core.frame.DataFrame'>\n",
      "RangeIndex: 500 entries, 0 to 499\n",
      "Data columns (total 25 columns):\n",
      " #   Column         Non-Null Count  Dtype         \n",
      "---  ------         --------------  -----         \n",
      " 0   issue_id       500 non-null    object        \n",
      " 1   shipment_id    500 non-null    object        \n",
      " 2   issue_type     500 non-null    object        \n",
      " 3   reported_date  500 non-null    datetime64[ns]\n",
      " 4   customer_id    500 non-null    object        \n",
      " 5   from_city      500 non-null    object        \n",
      " 6   to_city        500 non-null    object        \n",
      " 7   weight_kg      500 non-null    float64       \n",
      " 8   service_type   500 non-null    object        \n",
      " 9   ship_date      500 non-null    datetime64[ns]\n",
      " 10  status         500 non-null    object        \n",
      " 11  delivery_date  500 non-null    datetime64[ns]\n",
      " 12  customer_name  500 non-null    object        \n",
      " 13  customer_type  500 non-null    object        \n",
      " 14  city           500 non-null    object        \n",
      " 15  signup_date    500 non-null    datetime64[ns]\n",
      " 16  driver_id      500 non-null    object        \n",
      " 17  driver_name    500 non-null    object        \n",
      " 18  region         500 non-null    object        \n",
      " 19  work_hours     500 non-null    int64         \n",
      " 20  log_id         500 non-null    object        \n",
      " 21  log_date       500 non-null    datetime64[ns]\n",
      " 22  duration_min   500 non-null    int64         \n",
      " 23  was_late       500 non-null    bool          \n",
      " 24  ship_month     500 non-null    period[M]     \n",
      "dtypes: bool(1), datetime64[ns](5), float64(1), int64(2), object(15), period[M](1)\n",
      "memory usage: 94.4+ KB\n"
     ]
    }
   ],
   "source": [
    "issues=pd.read_excel('service_issues.xlsx')\n",
    "all_issues=issues.merge(shcd,how='left',on='shipment_id')\n",
    "all_issues.info()"
   ]
  },
  {
   "cell_type": "code",
   "execution_count": 42,
   "id": "124c4e63",
   "metadata": {},
   "outputs": [
    {
     "name": "stdout",
     "output_type": "stream",
     "text": [
      "Service Issue Rate = 2.50%\n"
     ]
    }
   ],
   "source": [
    "num_ship_issues=issues['issue_id'].nunique()\n",
    "total_shipments = shipments['shipment_id'].nunique()\n",
    "\n",
    "issues_rate=(num_ship_issues/total_shipments)*100\n",
    "print(f\"Service Issue Rate = {issues_rate:.2f}%\")"
   ]
  },
  {
   "cell_type": "code",
   "execution_count": 43,
   "id": "d8bed317",
   "metadata": {},
   "outputs": [
    {
     "data": {
      "application/vnd.plotly.v1+json": {
       "config": {
        "plotlyServerURL": "https://plot.ly"
       },
       "data": [
        {
         "domain": {
          "x": [
           0,
           1
          ],
          "y": [
           0,
           1
          ]
         },
         "hovertemplate": "issue_type=%{label}<br>count=%{value}<extra></extra>",
         "labels": [
          "Late",
          "Damaged",
          "Lost"
         ],
         "legendgroup": "",
         "name": "",
         "showlegend": true,
         "type": "pie",
         "values": [
          313,
          141,
          46
         ]
        }
       ],
       "layout": {
        "legend": {
         "tracegroupgap": 0
        },
        "margin": {
         "t": 60
        },
        "template": {
         "data": {
          "bar": [
           {
            "error_x": {
             "color": "#2a3f5f"
            },
            "error_y": {
             "color": "#2a3f5f"
            },
            "marker": {
             "line": {
              "color": "#E5ECF6",
              "width": 0.5
             },
             "pattern": {
              "fillmode": "overlay",
              "size": 10,
              "solidity": 0.2
             }
            },
            "type": "bar"
           }
          ],
          "barpolar": [
           {
            "marker": {
             "line": {
              "color": "#E5ECF6",
              "width": 0.5
             },
             "pattern": {
              "fillmode": "overlay",
              "size": 10,
              "solidity": 0.2
             }
            },
            "type": "barpolar"
           }
          ],
          "carpet": [
           {
            "aaxis": {
             "endlinecolor": "#2a3f5f",
             "gridcolor": "white",
             "linecolor": "white",
             "minorgridcolor": "white",
             "startlinecolor": "#2a3f5f"
            },
            "baxis": {
             "endlinecolor": "#2a3f5f",
             "gridcolor": "white",
             "linecolor": "white",
             "minorgridcolor": "white",
             "startlinecolor": "#2a3f5f"
            },
            "type": "carpet"
           }
          ],
          "choropleth": [
           {
            "colorbar": {
             "outlinewidth": 0,
             "ticks": ""
            },
            "type": "choropleth"
           }
          ],
          "contour": [
           {
            "colorbar": {
             "outlinewidth": 0,
             "ticks": ""
            },
            "colorscale": [
             [
              0,
              "#0d0887"
             ],
             [
              0.1111111111111111,
              "#46039f"
             ],
             [
              0.2222222222222222,
              "#7201a8"
             ],
             [
              0.3333333333333333,
              "#9c179e"
             ],
             [
              0.4444444444444444,
              "#bd3786"
             ],
             [
              0.5555555555555556,
              "#d8576b"
             ],
             [
              0.6666666666666666,
              "#ed7953"
             ],
             [
              0.7777777777777778,
              "#fb9f3a"
             ],
             [
              0.8888888888888888,
              "#fdca26"
             ],
             [
              1,
              "#f0f921"
             ]
            ],
            "type": "contour"
           }
          ],
          "contourcarpet": [
           {
            "colorbar": {
             "outlinewidth": 0,
             "ticks": ""
            },
            "type": "contourcarpet"
           }
          ],
          "heatmap": [
           {
            "colorbar": {
             "outlinewidth": 0,
             "ticks": ""
            },
            "colorscale": [
             [
              0,
              "#0d0887"
             ],
             [
              0.1111111111111111,
              "#46039f"
             ],
             [
              0.2222222222222222,
              "#7201a8"
             ],
             [
              0.3333333333333333,
              "#9c179e"
             ],
             [
              0.4444444444444444,
              "#bd3786"
             ],
             [
              0.5555555555555556,
              "#d8576b"
             ],
             [
              0.6666666666666666,
              "#ed7953"
             ],
             [
              0.7777777777777778,
              "#fb9f3a"
             ],
             [
              0.8888888888888888,
              "#fdca26"
             ],
             [
              1,
              "#f0f921"
             ]
            ],
            "type": "heatmap"
           }
          ],
          "heatmapgl": [
           {
            "colorbar": {
             "outlinewidth": 0,
             "ticks": ""
            },
            "colorscale": [
             [
              0,
              "#0d0887"
             ],
             [
              0.1111111111111111,
              "#46039f"
             ],
             [
              0.2222222222222222,
              "#7201a8"
             ],
             [
              0.3333333333333333,
              "#9c179e"
             ],
             [
              0.4444444444444444,
              "#bd3786"
             ],
             [
              0.5555555555555556,
              "#d8576b"
             ],
             [
              0.6666666666666666,
              "#ed7953"
             ],
             [
              0.7777777777777778,
              "#fb9f3a"
             ],
             [
              0.8888888888888888,
              "#fdca26"
             ],
             [
              1,
              "#f0f921"
             ]
            ],
            "type": "heatmapgl"
           }
          ],
          "histogram": [
           {
            "marker": {
             "pattern": {
              "fillmode": "overlay",
              "size": 10,
              "solidity": 0.2
             }
            },
            "type": "histogram"
           }
          ],
          "histogram2d": [
           {
            "colorbar": {
             "outlinewidth": 0,
             "ticks": ""
            },
            "colorscale": [
             [
              0,
              "#0d0887"
             ],
             [
              0.1111111111111111,
              "#46039f"
             ],
             [
              0.2222222222222222,
              "#7201a8"
             ],
             [
              0.3333333333333333,
              "#9c179e"
             ],
             [
              0.4444444444444444,
              "#bd3786"
             ],
             [
              0.5555555555555556,
              "#d8576b"
             ],
             [
              0.6666666666666666,
              "#ed7953"
             ],
             [
              0.7777777777777778,
              "#fb9f3a"
             ],
             [
              0.8888888888888888,
              "#fdca26"
             ],
             [
              1,
              "#f0f921"
             ]
            ],
            "type": "histogram2d"
           }
          ],
          "histogram2dcontour": [
           {
            "colorbar": {
             "outlinewidth": 0,
             "ticks": ""
            },
            "colorscale": [
             [
              0,
              "#0d0887"
             ],
             [
              0.1111111111111111,
              "#46039f"
             ],
             [
              0.2222222222222222,
              "#7201a8"
             ],
             [
              0.3333333333333333,
              "#9c179e"
             ],
             [
              0.4444444444444444,
              "#bd3786"
             ],
             [
              0.5555555555555556,
              "#d8576b"
             ],
             [
              0.6666666666666666,
              "#ed7953"
             ],
             [
              0.7777777777777778,
              "#fb9f3a"
             ],
             [
              0.8888888888888888,
              "#fdca26"
             ],
             [
              1,
              "#f0f921"
             ]
            ],
            "type": "histogram2dcontour"
           }
          ],
          "mesh3d": [
           {
            "colorbar": {
             "outlinewidth": 0,
             "ticks": ""
            },
            "type": "mesh3d"
           }
          ],
          "parcoords": [
           {
            "line": {
             "colorbar": {
              "outlinewidth": 0,
              "ticks": ""
             }
            },
            "type": "parcoords"
           }
          ],
          "pie": [
           {
            "automargin": true,
            "type": "pie"
           }
          ],
          "scatter": [
           {
            "fillpattern": {
             "fillmode": "overlay",
             "size": 10,
             "solidity": 0.2
            },
            "type": "scatter"
           }
          ],
          "scatter3d": [
           {
            "line": {
             "colorbar": {
              "outlinewidth": 0,
              "ticks": ""
             }
            },
            "marker": {
             "colorbar": {
              "outlinewidth": 0,
              "ticks": ""
             }
            },
            "type": "scatter3d"
           }
          ],
          "scattercarpet": [
           {
            "marker": {
             "colorbar": {
              "outlinewidth": 0,
              "ticks": ""
             }
            },
            "type": "scattercarpet"
           }
          ],
          "scattergeo": [
           {
            "marker": {
             "colorbar": {
              "outlinewidth": 0,
              "ticks": ""
             }
            },
            "type": "scattergeo"
           }
          ],
          "scattergl": [
           {
            "marker": {
             "colorbar": {
              "outlinewidth": 0,
              "ticks": ""
             }
            },
            "type": "scattergl"
           }
          ],
          "scattermapbox": [
           {
            "marker": {
             "colorbar": {
              "outlinewidth": 0,
              "ticks": ""
             }
            },
            "type": "scattermapbox"
           }
          ],
          "scatterpolar": [
           {
            "marker": {
             "colorbar": {
              "outlinewidth": 0,
              "ticks": ""
             }
            },
            "type": "scatterpolar"
           }
          ],
          "scatterpolargl": [
           {
            "marker": {
             "colorbar": {
              "outlinewidth": 0,
              "ticks": ""
             }
            },
            "type": "scatterpolargl"
           }
          ],
          "scatterternary": [
           {
            "marker": {
             "colorbar": {
              "outlinewidth": 0,
              "ticks": ""
             }
            },
            "type": "scatterternary"
           }
          ],
          "surface": [
           {
            "colorbar": {
             "outlinewidth": 0,
             "ticks": ""
            },
            "colorscale": [
             [
              0,
              "#0d0887"
             ],
             [
              0.1111111111111111,
              "#46039f"
             ],
             [
              0.2222222222222222,
              "#7201a8"
             ],
             [
              0.3333333333333333,
              "#9c179e"
             ],
             [
              0.4444444444444444,
              "#bd3786"
             ],
             [
              0.5555555555555556,
              "#d8576b"
             ],
             [
              0.6666666666666666,
              "#ed7953"
             ],
             [
              0.7777777777777778,
              "#fb9f3a"
             ],
             [
              0.8888888888888888,
              "#fdca26"
             ],
             [
              1,
              "#f0f921"
             ]
            ],
            "type": "surface"
           }
          ],
          "table": [
           {
            "cells": {
             "fill": {
              "color": "#EBF0F8"
             },
             "line": {
              "color": "white"
             }
            },
            "header": {
             "fill": {
              "color": "#C8D4E3"
             },
             "line": {
              "color": "white"
             }
            },
            "type": "table"
           }
          ]
         },
         "layout": {
          "annotationdefaults": {
           "arrowcolor": "#2a3f5f",
           "arrowhead": 0,
           "arrowwidth": 1
          },
          "autotypenumbers": "strict",
          "coloraxis": {
           "colorbar": {
            "outlinewidth": 0,
            "ticks": ""
           }
          },
          "colorscale": {
           "diverging": [
            [
             0,
             "#8e0152"
            ],
            [
             0.1,
             "#c51b7d"
            ],
            [
             0.2,
             "#de77ae"
            ],
            [
             0.3,
             "#f1b6da"
            ],
            [
             0.4,
             "#fde0ef"
            ],
            [
             0.5,
             "#f7f7f7"
            ],
            [
             0.6,
             "#e6f5d0"
            ],
            [
             0.7,
             "#b8e186"
            ],
            [
             0.8,
             "#7fbc41"
            ],
            [
             0.9,
             "#4d9221"
            ],
            [
             1,
             "#276419"
            ]
           ],
           "sequential": [
            [
             0,
             "#0d0887"
            ],
            [
             0.1111111111111111,
             "#46039f"
            ],
            [
             0.2222222222222222,
             "#7201a8"
            ],
            [
             0.3333333333333333,
             "#9c179e"
            ],
            [
             0.4444444444444444,
             "#bd3786"
            ],
            [
             0.5555555555555556,
             "#d8576b"
            ],
            [
             0.6666666666666666,
             "#ed7953"
            ],
            [
             0.7777777777777778,
             "#fb9f3a"
            ],
            [
             0.8888888888888888,
             "#fdca26"
            ],
            [
             1,
             "#f0f921"
            ]
           ],
           "sequentialminus": [
            [
             0,
             "#0d0887"
            ],
            [
             0.1111111111111111,
             "#46039f"
            ],
            [
             0.2222222222222222,
             "#7201a8"
            ],
            [
             0.3333333333333333,
             "#9c179e"
            ],
            [
             0.4444444444444444,
             "#bd3786"
            ],
            [
             0.5555555555555556,
             "#d8576b"
            ],
            [
             0.6666666666666666,
             "#ed7953"
            ],
            [
             0.7777777777777778,
             "#fb9f3a"
            ],
            [
             0.8888888888888888,
             "#fdca26"
            ],
            [
             1,
             "#f0f921"
            ]
           ]
          },
          "colorway": [
           "#636efa",
           "#EF553B",
           "#00cc96",
           "#ab63fa",
           "#FFA15A",
           "#19d3f3",
           "#FF6692",
           "#B6E880",
           "#FF97FF",
           "#FECB52"
          ],
          "font": {
           "color": "#2a3f5f"
          },
          "geo": {
           "bgcolor": "white",
           "lakecolor": "white",
           "landcolor": "#E5ECF6",
           "showlakes": true,
           "showland": true,
           "subunitcolor": "white"
          },
          "hoverlabel": {
           "align": "left"
          },
          "hovermode": "closest",
          "mapbox": {
           "style": "light"
          },
          "paper_bgcolor": "white",
          "plot_bgcolor": "#E5ECF6",
          "polar": {
           "angularaxis": {
            "gridcolor": "white",
            "linecolor": "white",
            "ticks": ""
           },
           "bgcolor": "#E5ECF6",
           "radialaxis": {
            "gridcolor": "white",
            "linecolor": "white",
            "ticks": ""
           }
          },
          "scene": {
           "xaxis": {
            "backgroundcolor": "#E5ECF6",
            "gridcolor": "white",
            "gridwidth": 2,
            "linecolor": "white",
            "showbackground": true,
            "ticks": "",
            "zerolinecolor": "white"
           },
           "yaxis": {
            "backgroundcolor": "#E5ECF6",
            "gridcolor": "white",
            "gridwidth": 2,
            "linecolor": "white",
            "showbackground": true,
            "ticks": "",
            "zerolinecolor": "white"
           },
           "zaxis": {
            "backgroundcolor": "#E5ECF6",
            "gridcolor": "white",
            "gridwidth": 2,
            "linecolor": "white",
            "showbackground": true,
            "ticks": "",
            "zerolinecolor": "white"
           }
          },
          "shapedefaults": {
           "line": {
            "color": "#2a3f5f"
           }
          },
          "ternary": {
           "aaxis": {
            "gridcolor": "white",
            "linecolor": "white",
            "ticks": ""
           },
           "baxis": {
            "gridcolor": "white",
            "linecolor": "white",
            "ticks": ""
           },
           "bgcolor": "#E5ECF6",
           "caxis": {
            "gridcolor": "white",
            "linecolor": "white",
            "ticks": ""
           }
          },
          "title": {
           "x": 0.05
          },
          "xaxis": {
           "automargin": true,
           "gridcolor": "white",
           "linecolor": "white",
           "ticks": "",
           "title": {
            "standoff": 15
           },
           "zerolinecolor": "white",
           "zerolinewidth": 2
          },
          "yaxis": {
           "automargin": true,
           "gridcolor": "white",
           "linecolor": "white",
           "ticks": "",
           "title": {
            "standoff": 15
           },
           "zerolinecolor": "white",
           "zerolinewidth": 2
          }
         }
        }
       }
      }
     },
     "metadata": {},
     "output_type": "display_data"
    }
   ],
   "source": [
    "num_issues_type=all_issues['issue_type'].value_counts().reset_index(name='count')\n",
    "num_issues_type\n",
    "\n",
    "px.pie(data_frame=num_issues_type,names='issue_type',values='count')"
   ]
  },
  {
   "cell_type": "code",
   "execution_count": 44,
   "id": "6258cf3c",
   "metadata": {},
   "outputs": [
    {
     "data": {
      "text/plain": [
       "to_city\n",
       "Mansoura      68\n",
       "Alexandria    67\n",
       "Zagazig       64\n",
       "Tanta         64\n",
       "Cairo         63\n",
       "Giza          60\n",
       "Assiut        58\n",
       "Suez          56\n",
       "Name: count, dtype: int64"
      ]
     },
     "execution_count": 44,
     "metadata": {},
     "output_type": "execute_result"
    }
   ],
   "source": [
    "all_issues['to_city'].value_counts()\n"
   ]
  },
  {
   "cell_type": "code",
   "execution_count": 45,
   "id": "00022fea",
   "metadata": {},
   "outputs": [
    {
     "data": {
      "text/plain": [
       "service_type\n",
       "Standard    240\n",
       "Express     152\n",
       "Same-Day    108\n",
       "Name: count, dtype: int64"
      ]
     },
     "execution_count": 45,
     "metadata": {},
     "output_type": "execute_result"
    }
   ],
   "source": [
    "all_issues.service_type.value_counts()\n"
   ]
  },
  {
   "cell_type": "code",
   "execution_count": 46,
   "id": "815ceeb5",
   "metadata": {},
   "outputs": [
    {
     "data": {
      "text/plain": [
       "driver_id\n",
       "D77    11\n",
       "D37    10\n",
       "D32    10\n",
       "D51     9\n",
       "D26     9\n",
       "D64     9\n",
       "D8      9\n",
       "D99     9\n",
       "D36     8\n",
       "D95     8\n",
       "Name: count, dtype: int64"
      ]
     },
     "execution_count": 46,
     "metadata": {},
     "output_type": "execute_result"
    }
   ],
   "source": [
    "all_issues['driver_id'].value_counts().head(10)"
   ]
  },
  {
   "cell_type": "code",
   "execution_count": 47,
   "id": "898a6be6",
   "metadata": {},
   "outputs": [
    {
     "data": {
      "text/plain": [
       "customer_type\n",
       "Regular    363\n",
       "VIP        137\n",
       "Name: count, dtype: int64"
      ]
     },
     "execution_count": 47,
     "metadata": {},
     "output_type": "execute_result"
    }
   ],
   "source": [
    "all_issues['customer_type'].value_counts().head(10)"
   ]
  },
  {
   "cell_type": "code",
   "execution_count": 48,
   "id": "3b4ca3e8",
   "metadata": {},
   "outputs": [
    {
     "data": {
      "image/png": "[encoded data removed]",
      "text/plain": [
       "<Figure size 1000x600 with 1 Axes>"
      ]
     },
     "metadata": {},
     "output_type": "display_data"
    }
   ],
   "source": [
    "aa=all_issues.groupby(['service_type','issue_type'])['issue_id'].size().reset_index(name='count')\n",
    "aa=aa.pivot(index='service_type',columns='issue_type',values='count')\n",
    "aa['total']=aa.sum(axis=1)\n",
    "aa[['Damaged','Late','Lost']].plot(kind='bar', stacked=True, figsize=(10, 6), colormap='Set2')\n",
    "plt.title('Complaints by Service Type')\n",
    "plt.ylabel('Number of Issues')\n",
    "plt.xlabel('Service Type')\n",
    "plt.xticks(rotation=0)\n",
    "plt.legend(title='Issue Type')\n",
    "plt.show()\n",
    "\n"
   ]
  },
  {
   "cell_type": "code",
   "execution_count": 49,
   "id": "17e68796",
   "metadata": {},
   "outputs": [
    {
     "data": {
      "text/plain": [
       "2.617547261269995"
      ]
     },
     "execution_count": 49,
     "metadata": {},
     "output_type": "execute_result"
    }
   ],
   "source": [
    "same_day_issues = all_issues[all_issues['service_type'] == 'Same-Day'].shape[0]\n",
    "same_day_total = shipments[shipments['service_type'] == 'Same-Day'].shape[0]\n",
    "same_day_rate=     same_day_issues/same_day_total*100\n",
    "same_day_rate"
   ]
  },
  {
   "cell_type": "code",
   "execution_count": 50,
   "id": "56f53137",
   "metadata": {},
   "outputs": [
    {
     "data": {
      "text/html": [
       "<div>\n",
       "<style scoped>\n",
       "    .dataframe tbody tr th:only-of-type {\n",
       "        vertical-align: middle;\n",
       "    }\n",
       "\n",
       "    .dataframe tbody tr th {\n",
       "        vertical-align: top;\n",
       "    }\n",
       "\n",
       "    .dataframe thead th {\n",
       "        text-align: right;\n",
       "    }\n",
       "</style>\n",
       "<table border=\"1\" class=\"dataframe\">\n",
       "  <thead>\n",
       "    <tr style=\"text-align: right;\">\n",
       "      <th></th>\n",
       "      <th>shipment_id</th>\n",
       "      <th>customer_id</th>\n",
       "      <th>from_city</th>\n",
       "      <th>to_city</th>\n",
       "      <th>weight_kg</th>\n",
       "      <th>service_type</th>\n",
       "      <th>ship_date</th>\n",
       "      <th>status</th>\n",
       "      <th>delivery_date</th>\n",
       "      <th>customer_name</th>\n",
       "      <th>customer_type</th>\n",
       "      <th>city</th>\n",
       "      <th>signup_date</th>\n",
       "      <th>driver_id</th>\n",
       "      <th>driver_name</th>\n",
       "      <th>region</th>\n",
       "      <th>work_hours</th>\n",
       "      <th>log_id</th>\n",
       "      <th>log_date</th>\n",
       "      <th>duration_min</th>\n",
       "      <th>was_late</th>\n",
       "      <th>ship_month</th>\n",
       "      <th>is_delayed</th>\n",
       "    </tr>\n",
       "  </thead>\n",
       "  <tbody>\n",
       "    <tr>\n",
       "      <th>0</th>\n",
       "      <td>SH0</td>\n",
       "      <td>C1102</td>\n",
       "      <td>Giza</td>\n",
       "      <td>Tanta</td>\n",
       "      <td>6.42</td>\n",
       "      <td>Standard</td>\n",
       "      <td>2024-11-30</td>\n",
       "      <td>Delivered</td>\n",
       "      <td>2024-12-01</td>\n",
       "      <td>Customer_102</td>\n",
       "      <td>Regular</td>\n",
       "      <td>Alexandria</td>\n",
       "      <td>2024-01-11</td>\n",
       "      <td>D86</td>\n",
       "      <td>Driver_86</td>\n",
       "      <td>Giza</td>\n",
       "      <td>9</td>\n",
       "      <td>L0</td>\n",
       "      <td>2024-12-01</td>\n",
       "      <td>56</td>\n",
       "      <td>False</td>\n",
       "      <td>2024-11</td>\n",
       "      <td>0</td>\n",
       "    </tr>\n",
       "    <tr>\n",
       "      <th>1</th>\n",
       "      <td>SH1</td>\n",
       "      <td>C1435</td>\n",
       "      <td>Alexandria</td>\n",
       "      <td>Assiut</td>\n",
       "      <td>5.53</td>\n",
       "      <td>Standard</td>\n",
       "      <td>2024-01-16</td>\n",
       "      <td>Delivered</td>\n",
       "      <td>2024-01-19</td>\n",
       "      <td>Customer_435</td>\n",
       "      <td>Regular</td>\n",
       "      <td>Mansoura</td>\n",
       "      <td>2024-12-09</td>\n",
       "      <td>D80</td>\n",
       "      <td>Driver_80</td>\n",
       "      <td>Giza</td>\n",
       "      <td>6</td>\n",
       "      <td>L1</td>\n",
       "      <td>2024-01-19</td>\n",
       "      <td>103</td>\n",
       "      <td>False</td>\n",
       "      <td>2024-01</td>\n",
       "      <td>0</td>\n",
       "    </tr>\n",
       "    <tr>\n",
       "      <th>2</th>\n",
       "      <td>SH2</td>\n",
       "      <td>C1860</td>\n",
       "      <td>Tanta</td>\n",
       "      <td>Giza</td>\n",
       "      <td>0.58</td>\n",
       "      <td>Standard</td>\n",
       "      <td>2024-01-08</td>\n",
       "      <td>Delivered</td>\n",
       "      <td>2024-01-10</td>\n",
       "      <td>Customer_860</td>\n",
       "      <td>VIP</td>\n",
       "      <td>Suez</td>\n",
       "      <td>2026-02-07</td>\n",
       "      <td>D41</td>\n",
       "      <td>Driver_41</td>\n",
       "      <td>Cairo</td>\n",
       "      <td>7</td>\n",
       "      <td>L2</td>\n",
       "      <td>2024-01-10</td>\n",
       "      <td>177</td>\n",
       "      <td>False</td>\n",
       "      <td>2024-01</td>\n",
       "      <td>0</td>\n",
       "    </tr>\n",
       "    <tr>\n",
       "      <th>3</th>\n",
       "      <td>SH3</td>\n",
       "      <td>C1270</td>\n",
       "      <td>Cairo</td>\n",
       "      <td>Tanta</td>\n",
       "      <td>26.45</td>\n",
       "      <td>Standard</td>\n",
       "      <td>2024-11-12</td>\n",
       "      <td>Delayed</td>\n",
       "      <td>2024-11-17</td>\n",
       "      <td>Customer_270</td>\n",
       "      <td>Regular</td>\n",
       "      <td>Giza</td>\n",
       "      <td>2024-06-27</td>\n",
       "      <td>D34</td>\n",
       "      <td>Driver_34</td>\n",
       "      <td>Cairo</td>\n",
       "      <td>8</td>\n",
       "      <td>L3</td>\n",
       "      <td>2024-11-17</td>\n",
       "      <td>159</td>\n",
       "      <td>True</td>\n",
       "      <td>2024-11</td>\n",
       "      <td>1</td>\n",
       "    </tr>\n",
       "    <tr>\n",
       "      <th>4</th>\n",
       "      <td>SH4</td>\n",
       "      <td>C1106</td>\n",
       "      <td>Assiut</td>\n",
       "      <td>Giza</td>\n",
       "      <td>0.88</td>\n",
       "      <td>Same-Day</td>\n",
       "      <td>2024-04-01</td>\n",
       "      <td>Delayed</td>\n",
       "      <td>2024-04-06</td>\n",
       "      <td>Customer_106</td>\n",
       "      <td>Regular</td>\n",
       "      <td>Assiut</td>\n",
       "      <td>2024-01-15</td>\n",
       "      <td>D51</td>\n",
       "      <td>Driver_51</td>\n",
       "      <td>Assiut</td>\n",
       "      <td>6</td>\n",
       "      <td>L4</td>\n",
       "      <td>2024-04-06</td>\n",
       "      <td>117</td>\n",
       "      <td>True</td>\n",
       "      <td>2024-04</td>\n",
       "      <td>1</td>\n",
       "    </tr>\n",
       "  </tbody>\n",
       "</table>\n",
       "</div>"
      ],
      "text/plain": [
       "  shipment_id customer_id   from_city to_city  weight_kg service_type  \\\n",
       "0         SH0       C1102        Giza   Tanta       6.42     Standard   \n",
       "1         SH1       C1435  Alexandria  Assiut       5.53     Standard   \n",
       "2         SH2       C1860       Tanta    Giza       0.58     Standard   \n",
       "3         SH3       C1270       Cairo   Tanta      26.45     Standard   \n",
       "4         SH4       C1106      Assiut    Giza       0.88     Same-Day   \n",
       "\n",
       "   ship_date     status delivery_date customer_name customer_type        city  \\\n",
       "0 2024-11-30  Delivered    2024-12-01  Customer_102       Regular  Alexandria   \n",
       "1 2024-01-16  Delivered    2024-01-19  Customer_435       Regular    Mansoura   \n",
       "2 2024-01-08  Delivered    2024-01-10  Customer_860           VIP        Suez   \n",
       "3 2024-11-12    Delayed    2024-11-17  Customer_270       Regular        Giza   \n",
       "4 2024-04-01    Delayed    2024-04-06  Customer_106       Regular      Assiut   \n",
       "\n",
       "  signup_date driver_id driver_name  region  work_hours log_id   log_date  \\\n",
       "0  2024-01-11       D86   Driver_86    Giza           9     L0 2024-12-01   \n",
       "1  2024-12-09       D80   Driver_80    Giza           6     L1 2024-01-19   \n",
       "2  2026-02-07       D41   Driver_41   Cairo           7     L2 2024-01-10   \n",
       "3  2024-06-27       D34   Driver_34   Cairo           8     L3 2024-11-17   \n",
       "4  2024-01-15       D51   Driver_51  Assiut           6     L4 2024-04-06   \n",
       "\n",
       "   duration_min  was_late ship_month  is_delayed  \n",
       "0            56     False    2024-11           0  \n",
       "1           103     False    2024-01           0  \n",
       "2           177     False    2024-01           0  \n",
       "3           159      True    2024-11           1  \n",
       "4           117      True    2024-04           1  "
      ]
     },
     "execution_count": 50,
     "metadata": {},
     "output_type": "execute_result"
    }
   ],
   "source": [
    "shcd['is_delayed']=(shcd.status=='Delayed').astype(int)\n",
    "shcd.head(5)"
   ]
  },
  {
   "cell_type": "code",
   "execution_count": 51,
   "id": "175908ae",
   "metadata": {},
   "outputs": [],
   "source": [
    "shipments=pd.read_excel('shipments.xlsx')\n",
    "customers=pd.read_excel('customers.xlsx')\n",
    "drivers = pd.read_excel('delivery_drivers.xlsx')\n",
    "logs = pd.read_excel('delivery_logs.xlsx')\n",
    "data=shipments.merge(customers,on='customer_id',how='left')\\\n",
    "               .merge(logs,on='shipment_id',how='left')\\\n",
    "               .merge(drivers[['driver_id','region']],on='driver_id',how='left')"
   ]
  },
  {
   "cell_type": "code",
   "execution_count": 52,
   "id": "7ae6505f",
   "metadata": {},
   "outputs": [
    {
     "data": {
      "text/html": [
       "<div>\n",
       "<style scoped>\n",
       "    .dataframe tbody tr th:only-of-type {\n",
       "        vertical-align: middle;\n",
       "    }\n",
       "\n",
       "    .dataframe tbody tr th {\n",
       "        vertical-align: top;\n",
       "    }\n",
       "\n",
       "    .dataframe thead th {\n",
       "        text-align: right;\n",
       "    }\n",
       "</style>\n",
       "<table border=\"1\" class=\"dataframe\">\n",
       "  <thead>\n",
       "    <tr style=\"text-align: right;\">\n",
       "      <th></th>\n",
       "      <th>shipment_id</th>\n",
       "      <th>customer_id</th>\n",
       "      <th>from_city</th>\n",
       "      <th>to_city</th>\n",
       "      <th>weight_kg</th>\n",
       "      <th>service_type</th>\n",
       "      <th>ship_date</th>\n",
       "      <th>status</th>\n",
       "      <th>delivery_date</th>\n",
       "      <th>customer_name</th>\n",
       "      <th>customer_type</th>\n",
       "      <th>city</th>\n",
       "      <th>signup_date</th>\n",
       "      <th>log_id</th>\n",
       "      <th>driver_id</th>\n",
       "      <th>log_date</th>\n",
       "      <th>duration_min</th>\n",
       "      <th>was_late</th>\n",
       "      <th>region</th>\n",
       "    </tr>\n",
       "  </thead>\n",
       "  <tbody>\n",
       "    <tr>\n",
       "      <th>0</th>\n",
       "      <td>SH0</td>\n",
       "      <td>C1102</td>\n",
       "      <td>Giza</td>\n",
       "      <td>Tanta</td>\n",
       "      <td>6.42</td>\n",
       "      <td>Standard</td>\n",
       "      <td>2024-11-30</td>\n",
       "      <td>Delivered</td>\n",
       "      <td>2024-12-01</td>\n",
       "      <td>Customer_102</td>\n",
       "      <td>Regular</td>\n",
       "      <td>Alexandria</td>\n",
       "      <td>2024-01-11</td>\n",
       "      <td>L0</td>\n",
       "      <td>D86</td>\n",
       "      <td>2024-12-01</td>\n",
       "      <td>56</td>\n",
       "      <td>False</td>\n",
       "      <td>Giza</td>\n",
       "    </tr>\n",
       "    <tr>\n",
       "      <th>1</th>\n",
       "      <td>SH1</td>\n",
       "      <td>C1435</td>\n",
       "      <td>Alexandria</td>\n",
       "      <td>Assiut</td>\n",
       "      <td>5.53</td>\n",
       "      <td>Standard</td>\n",
       "      <td>2024-01-16</td>\n",
       "      <td>Delivered</td>\n",
       "      <td>2024-01-19</td>\n",
       "      <td>Customer_435</td>\n",
       "      <td>Regular</td>\n",
       "      <td>Mansoura</td>\n",
       "      <td>2024-12-09</td>\n",
       "      <td>L1</td>\n",
       "      <td>D80</td>\n",
       "      <td>2024-01-19</td>\n",
       "      <td>103</td>\n",
       "      <td>False</td>\n",
       "      <td>Giza</td>\n",
       "    </tr>\n",
       "    <tr>\n",
       "      <th>2</th>\n",
       "      <td>SH2</td>\n",
       "      <td>C1860</td>\n",
       "      <td>Tanta</td>\n",
       "      <td>Giza</td>\n",
       "      <td>0.58</td>\n",
       "      <td>Standard</td>\n",
       "      <td>2024-01-08</td>\n",
       "      <td>Delivered</td>\n",
       "      <td>2024-01-10</td>\n",
       "      <td>Customer_860</td>\n",
       "      <td>VIP</td>\n",
       "      <td>Suez</td>\n",
       "      <td>2026-02-07</td>\n",
       "      <td>L2</td>\n",
       "      <td>D41</td>\n",
       "      <td>2024-01-10</td>\n",
       "      <td>177</td>\n",
       "      <td>False</td>\n",
       "      <td>Cairo</td>\n",
       "    </tr>\n",
       "    <tr>\n",
       "      <th>3</th>\n",
       "      <td>SH3</td>\n",
       "      <td>C1270</td>\n",
       "      <td>Cairo</td>\n",
       "      <td>Tanta</td>\n",
       "      <td>26.45</td>\n",
       "      <td>Standard</td>\n",
       "      <td>2024-11-12</td>\n",
       "      <td>Delayed</td>\n",
       "      <td>2024-11-17</td>\n",
       "      <td>Customer_270</td>\n",
       "      <td>Regular</td>\n",
       "      <td>Giza</td>\n",
       "      <td>2024-06-27</td>\n",
       "      <td>L3</td>\n",
       "      <td>D34</td>\n",
       "      <td>2024-11-17</td>\n",
       "      <td>159</td>\n",
       "      <td>True</td>\n",
       "      <td>Cairo</td>\n",
       "    </tr>\n",
       "    <tr>\n",
       "      <th>4</th>\n",
       "      <td>SH4</td>\n",
       "      <td>C1106</td>\n",
       "      <td>Assiut</td>\n",
       "      <td>Giza</td>\n",
       "      <td>0.88</td>\n",
       "      <td>Same-Day</td>\n",
       "      <td>2024-04-01</td>\n",
       "      <td>Delayed</td>\n",
       "      <td>2024-04-06</td>\n",
       "      <td>Customer_106</td>\n",
       "      <td>Regular</td>\n",
       "      <td>Assiut</td>\n",
       "      <td>2024-01-15</td>\n",
       "      <td>L4</td>\n",
       "      <td>D51</td>\n",
       "      <td>2024-04-06</td>\n",
       "      <td>117</td>\n",
       "      <td>True</td>\n",
       "      <td>Assiut</td>\n",
       "    </tr>\n",
       "  </tbody>\n",
       "</table>\n",
       "</div>"
      ],
      "text/plain": [
       "  shipment_id customer_id   from_city to_city  weight_kg service_type  \\\n",
       "0         SH0       C1102        Giza   Tanta       6.42     Standard   \n",
       "1         SH1       C1435  Alexandria  Assiut       5.53     Standard   \n",
       "2         SH2       C1860       Tanta    Giza       0.58     Standard   \n",
       "3         SH3       C1270       Cairo   Tanta      26.45     Standard   \n",
       "4         SH4       C1106      Assiut    Giza       0.88     Same-Day   \n",
       "\n",
       "   ship_date     status delivery_date customer_name customer_type        city  \\\n",
       "0 2024-11-30  Delivered    2024-12-01  Customer_102       Regular  Alexandria   \n",
       "1 2024-01-16  Delivered    2024-01-19  Customer_435       Regular    Mansoura   \n",
       "2 2024-01-08  Delivered    2024-01-10  Customer_860           VIP        Suez   \n",
       "3 2024-11-12    Delayed    2024-11-17  Customer_270       Regular        Giza   \n",
       "4 2024-04-01    Delayed    2024-04-06  Customer_106       Regular      Assiut   \n",
       "\n",
       "  signup_date log_id driver_id   log_date  duration_min  was_late  region  \n",
       "0  2024-01-11     L0       D86 2024-12-01            56     False    Giza  \n",
       "1  2024-12-09     L1       D80 2024-01-19           103     False    Giza  \n",
       "2  2026-02-07     L2       D41 2024-01-10           177     False   Cairo  \n",
       "3  2024-06-27     L3       D34 2024-11-17           159      True   Cairo  \n",
       "4  2024-01-15     L4       D51 2024-04-06           117      True  Assiut  "
      ]
     },
     "execution_count": 52,
     "metadata": {},
     "output_type": "execute_result"
    }
   ],
   "source": [
    "data.head(5)"
   ]
  },
  {
   "cell_type": "code",
   "execution_count": 53,
   "id": "133525aa",
   "metadata": {},
   "outputs": [],
   "source": [
    "data['is_delayed']=data['status'].apply(lambda x:1 if x =='Delayed' else 0)"
   ]
  },
  {
   "cell_type": "code",
   "execution_count": 54,
   "id": "df2afeb3",
   "metadata": {},
   "outputs": [],
   "source": [
    "features =['service_type', 'from_city', 'to_city', 'customer_type', 'driver_id', 'region', 'weight_kg']\n",
    "target='is_delayed'"
   ]
  },
  {
   "cell_type": "code",
   "execution_count": 60,
   "id": "078ed506",
   "metadata": {},
   "outputs": [
    {
     "name": "stderr",
     "output_type": "stream",
     "text": [
      "C:\\Users\\Mr.Omar\\AppData\\Local\\Temp\\ipykernel_18496\\3930084614.py:7: SettingWithCopyWarning:\n",
      "\n",
      "\n",
      "A value is trying to be set on a copy of a slice from a DataFrame.\n",
      "Try using .loc[row_indexer,col_indexer] = value instead\n",
      "\n",
      "See the caveats in the documentation: https://pandas.pydata.org/pandas-docs/stable/user_guide/indexing.html#returning-a-view-versus-a-copy\n",
      "\n",
      "C:\\Users\\Mr.Omar\\AppData\\Local\\Temp\\ipykernel_18496\\3930084614.py:7: SettingWithCopyWarning:\n",
      "\n",
      "\n",
      "A value is trying to be set on a copy of a slice from a DataFrame.\n",
      "Try using .loc[row_indexer,col_indexer] = value instead\n",
      "\n",
      "See the caveats in the documentation: https://pandas.pydata.org/pandas-docs/stable/user_guide/indexing.html#returning-a-view-versus-a-copy\n",
      "\n",
      "C:\\Users\\Mr.Omar\\AppData\\Local\\Temp\\ipykernel_18496\\3930084614.py:7: SettingWithCopyWarning:\n",
      "\n",
      "\n",
      "A value is trying to be set on a copy of a slice from a DataFrame.\n",
      "Try using .loc[row_indexer,col_indexer] = value instead\n",
      "\n",
      "See the caveats in the documentation: https://pandas.pydata.org/pandas-docs/stable/user_guide/indexing.html#returning-a-view-versus-a-copy\n",
      "\n",
      "C:\\Users\\Mr.Omar\\AppData\\Local\\Temp\\ipykernel_18496\\3930084614.py:7: SettingWithCopyWarning:\n",
      "\n",
      "\n",
      "A value is trying to be set on a copy of a slice from a DataFrame.\n",
      "Try using .loc[row_indexer,col_indexer] = value instead\n",
      "\n",
      "See the caveats in the documentation: https://pandas.pydata.org/pandas-docs/stable/user_guide/indexing.html#returning-a-view-versus-a-copy\n",
      "\n",
      "C:\\Users\\Mr.Omar\\AppData\\Local\\Temp\\ipykernel_18496\\3930084614.py:7: SettingWithCopyWarning:\n",
      "\n",
      "\n",
      "A value is trying to be set on a copy of a slice from a DataFrame.\n",
      "Try using .loc[row_indexer,col_indexer] = value instead\n",
      "\n",
      "See the caveats in the documentation: https://pandas.pydata.org/pandas-docs/stable/user_guide/indexing.html#returning-a-view-versus-a-copy\n",
      "\n",
      "C:\\Users\\Mr.Omar\\AppData\\Local\\Temp\\ipykernel_18496\\3930084614.py:7: SettingWithCopyWarning:\n",
      "\n",
      "\n",
      "A value is trying to be set on a copy of a slice from a DataFrame.\n",
      "Try using .loc[row_indexer,col_indexer] = value instead\n",
      "\n",
      "See the caveats in the documentation: https://pandas.pydata.org/pandas-docs/stable/user_guide/indexing.html#returning-a-view-versus-a-copy\n",
      "\n"
     ]
    }
   ],
   "source": [
    "label_cols=['service_type', 'from_city', 'to_city', 'customer_type','region','driver_id']\n",
    "X =data[features]\n",
    "y=data[target]\n",
    "le_dict={}\n",
    "for col in label_cols:\n",
    "    le=LabelEncoder()\n",
    "    X[col]=le.fit_transform(X[col])\n",
    "    le_dict[col]=le"
   ]
  },
  {
   "cell_type": "code",
   "execution_count": 71,
   "id": "65b27e3c",
   "metadata": {},
   "outputs": [
    {
     "name": "stdout",
     "output_type": "stream",
     "text": [
      "classification_report\n",
      "              precision    recall  f1-score   support\n",
      "\n",
      "           0       0.82      0.76      0.79      3237\n",
      "           1       0.22      0.29      0.25       763\n",
      "\n",
      "    accuracy                           0.67      4000\n",
      "   macro avg       0.52      0.52      0.52      4000\n",
      "weighted avg       0.71      0.67      0.69      4000\n",
      "\n"
     ]
    }
   ],
   "source": [
    "X_train , X_test , y_train , y_test=train_test_split(X ,y,test_size=0.2,random_state=42)\n",
    "sm=SMOTE(random_state=42)\n",
    "X_train_res,y_train_res=sm.fit_resample(X_train,y_train)\n",
    "model=RandomForestClassifier(n_estimators=100,random_state=42)\n",
    "model.fit(X_train_res,y_train_res)\n",
    "y_pred=model.predict(X_test)\n",
    "print('classification_report')\n",
    "print(classification_report(y_test,y_pred))"
   ]
  },
  {
   "cell_type": "code",
   "execution_count": 72,
   "id": "977bd57a",
   "metadata": {},
   "outputs": [
    {
     "data": {
      "image/png": "[encoded data removed]",
      "text/plain": [
       "<Figure size 640x480 with 2 Axes>"
      ]
     },
     "metadata": {},
     "output_type": "display_data"
    }
   ],
   "source": [
    "cm=confusion_matrix(y_test,y_pred)\n",
    "sns.heatmap(cm,annot=True,cmap='Blues')\n",
    "plt.xlabel('Predicted')\n",
    "plt.ylabel('Actual')\n",
    "plt.title('Confusion Matrix')\n",
    "plt.show()"
   ]
  },
  {
   "cell_type": "code",
   "execution_count": 87,
   "id": "80c667a8",
   "metadata": {},
   "outputs": [
    {
     "data": {
      "text/plain": [
       "<BarContainer object of 7 artists>"
      ]
     },
     "execution_count": 87,
     "metadata": {},
     "output_type": "execute_result"
    },
    {
     "data": {
      "image/png": "[encoded data removed]",
      "text/plain": [
       "<Figure size 640x480 with 1 Axes>"
      ]
     },
     "metadata": {},
     "output_type": "display_data"
    }
   ],
   "source": [
    "feature_names = X.columns\n",
    "importances=model.feature_importances_\n",
    "feat=pd.DataFrame({\n",
    "    'Features':feature_names,\n",
    "    'Importance':importances\n",
    "}).sort_values('Importance',ascending=True)\n",
    "plt.barh(feat['Features'],feat['Importance'],color='teal')"
   ]
  }
 ],
 "metadata": {
  "kernelspec": {
   "display_name": "Python 3",
   "language": "python",
   "name": "python3"
  },
  "language_info": {
   "codemirror_mode": {
    "name": "ipython",
    "version": 3
   },
   "file_extension": ".py",
   "mimetype": "text/x-python",
   "name": "python",
   "nbconvert_exporter": "python",
   "pygments_lexer": "ipython3",
   "version": "3.12.6"
  }
 },
 "nbformat": 4,
 "nbformat_minor": 5
}
